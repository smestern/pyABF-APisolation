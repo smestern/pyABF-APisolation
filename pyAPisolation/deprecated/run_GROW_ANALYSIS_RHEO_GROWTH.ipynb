{
 "cells": [
  {
   "cell_type": "code",
   "execution_count": 4,
   "metadata": {},
   "outputs": [],
   "source": [
    "import sys\n",
    "import numpy as np\n",
    "from numpy import genfromtxt\n",
    "import tkinter as tk\n",
    "from tkinter import filedialog\n",
    "import os\n",
    "import pandas as pd\n",
    "import matplotlib.pyplot as plt\n",
    "import scipy.signal as signal\n",
    "from scipy import interpolate\n",
    "from scipy.optimize import curve_fit\n",
    "from scipy.interpolate import UnivariateSpline\n",
    "from scipy import stats\n",
    "from ipfx import feature_extractor\n",
    "from ipfx import subthresh_features as subt\n",
    "from ipfx import feature_vectors as fv\n",
    "from ipfx.sweep import Sweep\n",
    "from sklearn.preprocessing import minmax_scale\n",
    "from pyAPisolation.loadABF import loadABF\n",
    "import sklearn.preprocessing\n",
    "import pyabf\n",
    "import logging\n",
    "import glob\n",
    "method='trf'"
   ]
  },
  {
   "cell_type": "code",
   "execution_count": 5,
   "metadata": {},
   "outputs": [],
   "source": [
    "import autograd.numpy as np\n",
    "from autograd import grad\n",
    "\n"
   ]
  },
  {
   "cell_type": "code",
   "execution_count": 6,
   "metadata": {},
   "outputs": [],
   "source": [
    "\n",
    "def exp_grow(t, a, b, alpha):\n",
    "    return a + b * np.exp(-alpha * t)\n",
    "\n",
    "def exp_grow_2p(t, a, b1, alphaFast, b2, alphaSlow):\n",
    "    return a + b1 * np.exp(-alphaFast * t) + b2*np.exp(-alphaSlow*t) "
   ]
  },
  {
   "cell_type": "code",
   "execution_count": 7,
   "metadata": {},
   "outputs": [],
   "source": [
    "\n",
    "\n",
    "f1 = grad(exp_grow_2p)  # 1st derivative of f\n",
    "f2 = grad(f1) # 2nd derivative of f\n",
    "\n",
    "def curvature(x, a, b1, alphaFast, b2, alphaSlow):\n",
    "        return np.abs(f2(x, a, b1, alphaFast, b2, alphaSlow))*(1 + f1(x, a, b1, alphaFast, b2, alphaSlow)**2)**-1.5\n",
    "    \n",
    "    \n",
    "def curvature_real(dy, ddy):\n",
    "        return abs(dy)*(1 + ddy**2)**-1.5\n",
    "    \n",
    "def curvature_splines(x, y=None, error=0.1, smoothing=None):\n",
    "    \"\"\"Calculate the signed curvature of a 2D curve at each point\n",
    "    using interpolating splines.\n",
    "    Parameters\n",
    "    ----------\n",
    "    x,y: numpy.array(dtype=float) shape (n_points, )\n",
    "         or\n",
    "         y=None and\n",
    "         x is a numpy.array(dtype=complex) shape (n_points, )\n",
    "         In the second case the curve is represented as a np.array\n",
    "         of complex numbers.\n",
    "    error : float\n",
    "        The admisible error when interpolating the splines\n",
    "    Returns\n",
    "    -------\n",
    "    curvature: numpy.array shape (n_points, )\n",
    "    Note: This is 2-3x slower (1.8 ms for 2000 points) than `curvature_gradient`\n",
    "    but more accurate, especially at the borders.\n",
    "    \"\"\"\n",
    "\n",
    "    # handle list of complex case\n",
    "    if y is None:\n",
    "        x, y = x.real, x.imag\n",
    "\n",
    "    t = np.arange(x.shape[0])\n",
    "    std = error * np.ones_like(x)\n",
    "\n",
    "    fx = UnivariateSpline(t, x, k=4, w=1 / np.sqrt(std), s=smoothing)\n",
    "    fy = UnivariateSpline(t, y, k=4, w=1 / np.sqrt(std), s=smoothing)\n",
    "\n",
    "    xˈ = fx.derivative(1)(t)\n",
    "    xˈˈ = fx.derivative(2)(t)\n",
    "    yˈ = fy.derivative(1)(t)\n",
    "    yˈˈ = fy.derivative(2)(t)\n",
    "    curvature = (xˈ* yˈˈ - yˈ* xˈˈ) / np.power(xˈ** 2 + yˈ** 2, 3 / 2)\n",
    "    return curvature\n",
    "    \n",
    "\n",
    "def derivative(x,y):\n",
    "    return np.diff(y)/np.diff(x)\n",
    "\n",
    "\n",
    "def curve_detrend(x,y, curve2):\n",
    "    test = curvature_splines(x, signal.savgol_filter(y, 51, 1), error=1, smoothing=25)\n",
    "    cy = np.array([curvature(xi, *curve2) for xi in x])\n",
    "    #detrend using first and last point\n",
    "    lin_res = stats.linregress([x[0], x[-1]], [cy[0], cy[-1]])\n",
    "    trend = x*lin_res.slope + lin_res.intercept\n",
    "    #plt.plot(x,trend)\n",
    "    detrended_data = cy - trend\n",
    "    return detrended_data"
   ]
  },
  {
   "cell_type": "code",
   "execution_count": 8,
   "metadata": {},
   "outputs": [],
   "source": [
    "def exp_growth_factor(dataT,dataV,dataI, end_index=300):\n",
    "    #try:\n",
    "        \n",
    "        diff_I = np.diff(dataI)\n",
    "        \n",
    "\n",
    "        #Compute out -50 ms from threshold\n",
    "        dt = dataT[1] - dataT[0]\n",
    "        offset = 0.02/ dt \n",
    "        upwardinfl = int(end_index - offset)\n",
    "        end_index = int(end_index)\n",
    "        upperC = np.amax(dataV[upwardinfl:end_index])\n",
    "        lowerC  = np.amin(dataV[upwardinfl:end_index])\n",
    "        diffC = np.abs(lowerC - upperC)\n",
    "        t1 = dataT[upwardinfl:end_index] - dataT[upwardinfl]\n",
    "        curve = curve_fit(exp_grow, t1, dataV[upwardinfl:end_index], maxfev=50000, bounds=([-np.inf, -np.inf, -np.inf], [np.inf, np.inf, np.inf]))[0]\n",
    "        curve2 = curve_fit(exp_grow_2p, t1, dataV[upwardinfl:end_index], maxfev=50000,method='trf', bounds=([lowerC-5,  -diffC, 1,  -diffC,  -np.inf], [lowerC+5, 0, np.inf, 1, -1]), xtol=None, gtol=None, ftol=1e-12)[0]\n",
    "        tau = curve[2]\n",
    "        tau1 = 1/curve2[2]\n",
    "        tau2 = 1/curve2[4]\n",
    "        tau_idx = [2, 4]\n",
    "        fast = tau_idx[np.argmin([tau1, tau2])]\n",
    "        slow = tau_idx[np.argmax([tau1, tau2])]\n",
    "        \n",
    "        curve_out = [curve2[0], curve2[fast-1], curve2[fast], curve2[slow-1], curve2[slow]]\n",
    "\n",
    "\n",
    "        #plt.subplot(1,2,1)\n",
    "        plt.plot(t1, dataV[upwardinfl:end_index], c='k', alpha=0.5)\n",
    "        plt.plot(t1, exp_grow_2p(t1, *curve2), label=f'2 phase fit', c='r', alpha=0.5)\n",
    "        plt.plot(t1, exp_grow(t1, *curve_out[:3]), label=f'Fast phase', c='g', alpha=0.5)\n",
    "        plt.plot(t1, exp_grow(t1, curve_out[0], *curve_out[3:]), label=f'slow phase', c='b', alpha=0.5)\n",
    "        plt.title(f\" CELL will tau1 {1/curve2[fast]} & A {curve2[fast-1]}, and tau2 {1/curve2[slow]} & A {curve2[slow-1]}\")\n",
    "        #plt.subplot(1,2,2)\n",
    "        plt.legend()\n",
    "        #plt.twinx()\n",
    "        #plt.subplot(1,2,2)\n",
    "        dy = curve_detrend(t1, dataV[upwardinfl:end_index], curve2)\n",
    "         #signal.savgol_filter(nt1p.diff(dataV[upwardinfl:end_index])/np.diff(t1), 71, 2, mode='mirror')\n",
    "        #plt.plot(t1,dy)\n",
    "        \n",
    "        curve_out = [curve2[0], curve2[fast-1], 1/curve2[fast], curve2[slow-1], 1/curve2[slow]]\n",
    "        return curve_out, np.amax(dy)\n",
    "    #except:\n",
    "        return [np.nan, np.nan, np.nan, np.nan, np.nan]"
   ]
  },
  {
   "cell_type": "code",
   "execution_count": 9,
   "metadata": {},
   "outputs": [],
   "source": [
    "files = glob.glob('C:\\\\Users\\\\SMest\\\\Documents\\\\clustering-data\\\\\\All IC1s\\\\*.abf', recursive=True)"
   ]
  },
  {
   "cell_type": "code",
   "execution_count": 10,
   "metadata": {},
   "outputs": [
    {
     "output_type": "stream",
     "name": "stdout",
     "text": [
      "<bound method NDFrame.head of             filename  label  cell_label  CRH_label  Sag Ratio 001  \\\n0    2020_01_16_0003      2          -1         -1       0.072335   \n1    2020_01_16_0011      1           1         -1       0.053301   \n2    2020_01_16_0020      2           3         -1       0.183200   \n3    2020_01_16_0025      2          -1         -1       0.200844   \n4    2020_01_16_0029      0          -1          0       0.044166   \n..               ...    ...         ...        ...            ...   \n152         21311038      1           0         -1       0.065753   \n153         21311047      1           1         -1       0.069595   \n154         21311063      5           1         -1       0.291042   \n155         21311074      1          -1         -1       0.123829   \n156         21311084      1           1         -1       0.290186   \n\n     Sag Ratio 002  Sag Ratio 003  Sag Ratio 004  Sag Ratio 005  \\\n0         0.480277       1.081981       1.528664       1.856069   \n1         0.503962       0.925638       1.555496       2.082007   \n2         0.575015       1.055171       1.837907       2.206512   \n3         0.587164       1.024564       1.622953       5.406313   \n4         0.664253       1.029240       1.606125       2.330974   \n..             ...            ...            ...            ...   \n152       0.538819       1.143360       1.229709       1.308476   \n153       0.470869       1.049339       1.635955       1.803914   \n154       0.584079       0.998267       1.478935       1.917750   \n155       0.539322       1.064687       1.508119       1.534894   \n156       0.610318       1.004721       1.572691       1.822265   \n\n     Sag Ratio 006  ...  spike_thres008 1  spike_width0021  spike_width0031  \\\n0         3.187487  ...        -39.367676          0.00125          0.00125   \n1         2.253271  ...        -32.684326          0.00110          0.00100   \n2         2.410272  ...        -35.308838          0.00135          0.00135   \n3         4.132607  ...        -36.346436          0.00115          0.00115   \n4         1.949249  ...        -51.879883          0.00160          0.00155   \n..             ...  ...               ...              ...              ...   \n152       1.766135  ...        -25.543213          0.00178          0.00176   \n153       1.929304  ...        -34.912109          0.00108          0.00100   \n154       2.345283  ...        -34.667969          0.00092          0.00080   \n155       1.991345  ...        -21.545410          0.00222          0.00218   \n156       2.300668  ...        -37.841797          0.00136          0.00128   \n\n     spike_width0041  spike_width0051  spike_width0061  spike_width0071  \\\n0            0.00120          0.00120              NaN              NaN   \n1            0.00100          0.00105              NaN              NaN   \n2            0.00135          0.00135          0.00135              NaN   \n3            0.00115          0.00115              NaN              NaN   \n4                NaN              NaN              NaN              NaN   \n..               ...              ...              ...              ...   \n152          0.00180          0.00164          0.00168              NaN   \n153          0.00098          0.00094          0.00094              NaN   \n154          0.00076              NaN              NaN              NaN   \n155          0.00204          0.00200          0.00202              NaN   \n156          0.00124          0.00132          0.00134              NaN   \n\n     spike_width0081  latency_slope  latency_decay  \n0                NaN       0.114643       1.055731  \n1                NaN       0.287480       1.180096  \n2                NaN       0.065053       0.986025  \n3                NaN       0.110158       0.951640  \n4                NaN            NaN            NaN  \n..               ...            ...            ...  \n152              NaN       0.066318       0.971572  \n153              NaN       0.130393       0.984444  \n154              NaN       0.044160       0.985281  \n155              NaN       0.077835       0.979789  \n156              NaN       0.096644       1.000584  \n\n[157 rows x 156 columns]>\n"
     ]
    }
   ],
   "source": [
    "cell_type_df = pd.read_csv(\"C:\\\\Users\\\\SMest\\\\Documents\\\\clustering-data\\\\MARM_PVN_IC1\\\\spike_count_sort_out.csv\")\n",
    "print(cell_type_df.head)\n",
    "file_names = cell_type_df['filename'].to_numpy()\n",
    "cell_type_label = cell_type_df['cell_label'].to_numpy()"
   ]
  },
  {
   "cell_type": "code",
   "execution_count": 2,
   "metadata": {
    "tags": []
   },
   "outputs": [
    {
     "output_type": "error",
     "ename": "NameError",
     "evalue": "name 'files' is not defined",
     "traceback": [
      "\u001b[1;31m---------------------------------------------------------------------------\u001b[0m",
      "\u001b[1;31mNameError\u001b[0m                                 Traceback (most recent call last)",
      "\u001b[1;32m<ipython-input-2-0d887cccd194>\u001b[0m in \u001b[0;36m<module>\u001b[1;34m\u001b[0m\n\u001b[0;32m      3\u001b[0m \u001b[0mids\u001b[0m \u001b[1;33m=\u001b[0m \u001b[1;33m[\u001b[0m\u001b[1;33m]\u001b[0m\u001b[1;33m\u001b[0m\u001b[1;33m\u001b[0m\u001b[0m\n\u001b[0;32m      4\u001b[0m \u001b[0mmax_curve\u001b[0m \u001b[1;33m=\u001b[0m \u001b[1;33m[\u001b[0m\u001b[1;33m]\u001b[0m\u001b[1;33m\u001b[0m\u001b[1;33m\u001b[0m\u001b[0m\n\u001b[1;32m----> 5\u001b[1;33m \u001b[1;32mfor\u001b[0m \u001b[0mi\u001b[0m\u001b[1;33m,\u001b[0m \u001b[0mf\u001b[0m \u001b[1;32min\u001b[0m \u001b[0menumerate\u001b[0m\u001b[1;33m(\u001b[0m\u001b[0mfiles\u001b[0m\u001b[1;33m[\u001b[0m\u001b[1;33m:\u001b[0m\u001b[1;33m]\u001b[0m\u001b[1;33m)\u001b[0m\u001b[1;33m:\u001b[0m\u001b[1;33m\u001b[0m\u001b[1;33m\u001b[0m\u001b[0m\n\u001b[0m\u001b[0;32m      6\u001b[0m     \u001b[0mprint\u001b[0m\u001b[1;33m(\u001b[0m\u001b[0mi\u001b[0m\u001b[1;33m)\u001b[0m\u001b[1;33m\u001b[0m\u001b[1;33m\u001b[0m\u001b[0m\n\u001b[0;32m      7\u001b[0m     \u001b[1;32mtry\u001b[0m\u001b[1;33m:\u001b[0m\u001b[1;33m\u001b[0m\u001b[1;33m\u001b[0m\u001b[0m\n",
      "\u001b[1;31mNameError\u001b[0m: name 'files' is not defined"
     ]
    }
   ],
   "source": [
    "curves = []\n",
    "label = []\n",
    "ids = []\n",
    "max_curve = []\n",
    "for i, f in enumerate(files[:]):\n",
    "    print(i)\n",
    "    try:\n",
    "        base = os.path.basename(f)\n",
    "        base = base.split(\".\")[0]\n",
    "        if base in file_names:\n",
    "            x, y, c = loadABF(f)\n",
    "            \n",
    "            temp_curves =[]\n",
    "            #plt.clf()\n",
    "            iterd = 0\n",
    "            for sweepX, sweepY, sweepC in zip(x,y,c):\n",
    "                spikext = feature_extractor.SpikeFeatureExtractor(filter=0, end=1.25)\n",
    "                res = spikext.process(sweepX, sweepY, sweepC)\n",
    "                if res.empty==False and iterd < 1:\n",
    "                    iterd += 1\n",
    "                    spike_time = res['threshold_index'].to_numpy()[0]\n",
    "                    #plt.figure(num=2)\n",
    "                    curve, max_dy = exp_growth_factor(sweepX, sweepY, sweepC, spike_time)\n",
    "                    max_curve.append(max_dy)\n",
    "                    temp_curves.append(curve)\n",
    "            temp_curves = np.vstack(temp_curves)\n",
    "            div = np.ravel((temp_curves[:,2]) / (temp_curves[:,4])).reshape(-1,1)\n",
    "            \n",
    "            sum_height= (temp_curves[:,1] + temp_curves[:,3])\n",
    "            ratio = (temp_curves[:,2] / (temp_curves[:,1] / sum_height)) / (temp_curves[:,4] / (temp_curves[:,3] / sum_height))\n",
    "            ratio = np.ravel(ratio).reshape(-1,1)\n",
    "            temp_curves = np.hstack([temp_curves, div, ratio])\n",
    "            print(temp_curves)\n",
    "            meanC = np.nanmean(temp_curves, axis=0)\n",
    "            print(meanC.shape)\n",
    "            curves.append(meanC)\n",
    "            label_idx = np.argwhere(file_names==base)\n",
    "            \n",
    "\n",
    "            label.append(cell_type_label[label_idx])\n",
    "            \n",
    "            ids.append(base)\n",
    "            plt.savefig(f+\".png\")\n",
    "            plt.show()\n",
    "            \n",
    "            plt.close()\n",
    "    except Exception as e:\n",
    "        print(\"fail\")\n",
    "        print(e)\n",
    "curves = np.vstack(curves)"
   ]
  },
  {
   "cell_type": "code",
   "execution_count": 9,
   "metadata": {},
   "outputs": [],
   "source": [
    "#curves[:,2] = np.log10(np.abs(1/curves[:,2]))\n",
    "#curves[:,4] = np.log10(np.abs(1/curves[:,4]))"
   ]
  },
  {
   "cell_type": "code",
   "execution_count": 10,
   "metadata": {},
   "outputs": [
    {
     "output_type": "stream",
     "name": "stdout",
     "text": [
      "[[-41.6309   0.0568  -0.0045 ...   0.0295  -0.1531  13.2523]\n",
      " [-47.5818   0.3944  -0.0062 ...   0.0154  -0.4007   5.4223]\n",
      " [-49.718    0.1745  -0.006  ...   0.0228  -0.2615   7.782 ]\n",
      " ...\n",
      " [-40.5322   0.1017  -0.0049 ...   0.0089  -0.5555  28.9531]\n",
      " [-32.9944   0.0098  -0.0029 ...   0.01    -0.2889 161.7149]\n",
      " [-50.542    0.3578  -0.0055 ...   0.0157  -0.3541   5.3215]]\n",
      "[[-0.1531]\n",
      " [-0.4007]\n",
      " [-0.2615]\n",
      " ...\n",
      " [-0.5555]\n",
      " [-0.2889]\n",
      " [-0.3541]]\n",
      "[[-41.6309   0.0568  -0.0045 ...   0.0295  -0.1531  13.2523]\n",
      " [-47.5818   0.3944  -0.0062 ...   0.0154  -0.4007   5.4223]\n",
      " [-49.718    0.1745  -0.006  ...   0.0228  -0.2615   7.782 ]\n",
      " ...\n",
      " [-40.5322   0.1017  -0.0049 ...   0.0089  -0.5555  28.9531]\n",
      " [-32.9944   0.0098  -0.0029 ...   0.01    -0.2889 161.7149]\n",
      " [-50.542    0.3578  -0.0055 ...   0.0157  -0.3541   5.3215]]\n",
      "ipykernel_launcher:9: RuntimeWarning: divide by zero encountered in true_divide\n",
      "ipykernel_launcher:9: RuntimeWarning: invalid value encountered in true_divide\n"
     ]
    }
   ],
   "source": [
    "#lab = sklearn.preprocessing.LabelEncoder()\n",
    "#int_lab = lab.fit_transform(label)\n",
    "print(curves)\n",
    "label = np.ravel(label).reshape(-1,1)\n",
    "\n",
    "div = np.ravel((curves[:,2]) / (curves[:,4])).reshape(-1,1)\n",
    "print(div)\n",
    "sum_height= (curves[:,1] + curves[:,3])\n",
    "ratio = (curves[:,2] / (curves[:,1]/sum_height)) / (curves[:,4] / (curves[:,3]/sum_height))\n",
    "ratio = np.ravel(ratio).reshape(-1,1)\n",
    "curves_out = np.hstack([curves, div, ratio, label])\n",
    "np.savetxt('curves.csv', curves_out, fmt='%.8f', delimiter=',')\n",
    "np.savetxt('curves_id.csv', ids, fmt='%s', delimiter=',')\n",
    "print(curves)"
   ]
  },
  {
   "cell_type": "code",
   "execution_count": 15,
   "metadata": {},
   "outputs": [
    {
     "output_type": "execute_result",
     "data": {
      "text/plain": [
       "<matplotlib.legend.Legend at 0x1eb91ba6a58>"
      ]
     },
     "metadata": {},
     "execution_count": 15
    },
    {
     "output_type": "display_data",
     "data": {
      "text/plain": "<Figure size 720x720 with 1 Axes>",
      "image/svg+xml": "<?xml version=\"1.0\" encoding=\"utf-8\" standalone=\"no\"?>\r\n<!DOCTYPE svg PUBLIC \"-//W3C//DTD SVG 1.1//EN\"\r\n  \"http://www.w3.org/Graphics/SVG/1.1/DTD/svg11.dtd\">\r\n<!-- Created with matplotlib (https://matplotlib.org/) -->\r\n<svg height=\"577.521834pt\" version=\"1.1\" viewBox=\"0 0 607.3 577.521834\" width=\"607.3pt\" xmlns=\"http://www.w3.org/2000/svg\" xmlns:xlink=\"http://www.w3.org/1999/xlink\">\r\n <metadata>\r\n  <rdf:RDF xmlns:cc=\"http://creativecommons.org/ns#\" xmlns:dc=\"http://purl.org/dc/elements/1.1/\" xmlns:rdf=\"http://www.w3.org/1999/02/22-rdf-syntax-ns#\">\r\n   <cc:Work>\r\n    <dc:type rdf:resource=\"http://purl.org/dc/dcmitype/StillImage\"/>\r\n    <dc:date>2021-05-15T09:45:14.736582</dc:date>\r\n    <dc:format>image/svg+xml</dc:format>\r\n    <dc:creator>\r\n     <cc:Agent>\r\n      <dc:title>Matplotlib v3.3.3, https://matplotlib.org/</dc:title>\r\n     </cc:Agent>\r\n    </dc:creator>\r\n   </cc:Work>\r\n  </rdf:RDF>\r\n </metadata>\r\n <defs>\r\n  <style type=\"text/css\">*{stroke-linecap:butt;stroke-linejoin:round;}</style>\r\n </defs>\r\n <g id=\"figure_1\">\r\n  <g id=\"patch_1\">\r\n   <path d=\"M 0 577.521834 \r\nL 607.3 577.521834 \r\nL 607.3 0 \r\nL 0 0 \r\nz\r\n\" style=\"fill:none;\"/>\r\n  </g>\r\n  <g id=\"axes_1\">\r\n   <g id=\"patch_2\">\r\n    <path d=\"M 42.1 553.643709 \r\nL 600.1 553.643709 \r\nL 600.1 10.043709 \r\nL 42.1 10.043709 \r\nz\r\n\" style=\"fill:#ffffff;\"/>\r\n   </g>\r\n   <g id=\"PathCollection_1\">\r\n    <defs>\r\n     <path d=\"M 0 3 \r\nC 0.795609 3 1.55874 2.683901 2.12132 2.12132 \r\nC 2.683901 1.55874 3 0.795609 3 0 \r\nC 3 -0.795609 2.683901 -1.55874 2.12132 -2.12132 \r\nC 1.55874 -2.683901 0.795609 -3 0 -3 \r\nC -0.795609 -3 -1.55874 -2.683901 -2.12132 -2.12132 \r\nC -2.683901 -1.55874 -3 -0.795609 -3 0 \r\nC -3 0.795609 -2.683901 1.55874 -2.12132 2.12132 \r\nC -1.55874 2.683901 -0.795609 3 0 3 \r\nz\r\n\" id=\"mb5e525e1d2\" style=\"stroke:#1f77b4;\"/>\r\n    </defs>\r\n    <g clip-path=\"url(#p6687f68d7c)\">\r\n     <use style=\"fill:#1f77b4;stroke:#1f77b4;\" x=\"67.463636\" xlink:href=\"#mb5e525e1d2\" y=\"153.045983\"/>\r\n     <use style=\"fill:#1f77b4;stroke:#1f77b4;\" x=\"67.463636\" xlink:href=\"#mb5e525e1d2\" y=\"102.663924\"/>\r\n     <use style=\"fill:#1f77b4;stroke:#1f77b4;\" x=\"67.463636\" xlink:href=\"#mb5e525e1d2\" y=\"119.868713\"/>\r\n     <use style=\"fill:#1f77b4;stroke:#1f77b4;\" x=\"67.463636\" xlink:href=\"#mb5e525e1d2\" y=\"131.785029\"/>\r\n     <use style=\"fill:#1f77b4;stroke:#1f77b4;\" x=\"67.463636\" xlink:href=\"#mb5e525e1d2\" y=\"125.185694\"/>\r\n     <use style=\"fill:#1f77b4;stroke:#1f77b4;\" x=\"67.463636\" xlink:href=\"#mb5e525e1d2\" y=\"136.556639\"/>\r\n     <use style=\"fill:#1f77b4;stroke:#1f77b4;\" x=\"67.463636\" xlink:href=\"#mb5e525e1d2\" y=\"528.934618\"/>\r\n     <use style=\"fill:#1f77b4;stroke:#1f77b4;\" x=\"67.463636\" xlink:href=\"#mb5e525e1d2\" y=\"139.442354\"/>\r\n     <use style=\"fill:#1f77b4;stroke:#1f77b4;\" x=\"67.463636\" xlink:href=\"#mb5e525e1d2\" y=\"144.957225\"/>\r\n     <use style=\"fill:#1f77b4;stroke:#1f77b4;\" x=\"67.463636\" xlink:href=\"#mb5e525e1d2\" y=\"154.877306\"/>\r\n     <use style=\"fill:#1f77b4;stroke:#1f77b4;\" x=\"67.463636\" xlink:href=\"#mb5e525e1d2\" y=\"138.588875\"/>\r\n     <use style=\"fill:#1f77b4;stroke:#1f77b4;\" x=\"67.463636\" xlink:href=\"#mb5e525e1d2\" y=\"137.93095\"/>\r\n     <use style=\"fill:#1f77b4;stroke:#1f77b4;\" x=\"67.463636\" xlink:href=\"#mb5e525e1d2\" y=\"145.751429\"/>\r\n     <use style=\"fill:#1f77b4;stroke:#1f77b4;\" x=\"67.463636\" xlink:href=\"#mb5e525e1d2\" y=\"144.809552\"/>\r\n     <use style=\"fill:#1f77b4;stroke:#1f77b4;\" x=\"67.463636\" xlink:href=\"#mb5e525e1d2\" y=\"129.978841\"/>\r\n     <use style=\"fill:#1f77b4;stroke:#1f77b4;\" x=\"67.463636\" xlink:href=\"#mb5e525e1d2\" y=\"137.955172\"/>\r\n     <use style=\"fill:#1f77b4;stroke:#1f77b4;\" x=\"67.463636\" xlink:href=\"#mb5e525e1d2\" y=\"104.626083\"/>\r\n     <use style=\"fill:#1f77b4;stroke:#1f77b4;\" x=\"67.463636\" xlink:href=\"#mb5e525e1d2\" y=\"121.0137\"/>\r\n     <use style=\"fill:#1f77b4;stroke:#1f77b4;\" x=\"67.463636\" xlink:href=\"#mb5e525e1d2\" y=\"129.477007\"/>\r\n     <use style=\"fill:#1f77b4;stroke:#1f77b4;\" x=\"67.463636\" xlink:href=\"#mb5e525e1d2\" y=\"150.942872\"/>\r\n     <use style=\"fill:#1f77b4;stroke:#1f77b4;\" x=\"67.463636\" xlink:href=\"#mb5e525e1d2\" y=\"130.102721\"/>\r\n     <use style=\"fill:#1f77b4;stroke:#1f77b4;\" x=\"67.463636\" xlink:href=\"#mb5e525e1d2\" y=\"136.174963\"/>\r\n     <use style=\"fill:#1f77b4;stroke:#1f77b4;\" x=\"67.463636\" xlink:href=\"#mb5e525e1d2\" y=\"124.10313\"/>\r\n     <use style=\"fill:#1f77b4;stroke:#1f77b4;\" x=\"67.463636\" xlink:href=\"#mb5e525e1d2\" y=\"138.412658\"/>\r\n     <use style=\"fill:#1f77b4;stroke:#1f77b4;\" x=\"67.463636\" xlink:href=\"#mb5e525e1d2\" y=\"125.416714\"/>\r\n     <use style=\"fill:#1f77b4;stroke:#1f77b4;\" x=\"67.463636\" xlink:href=\"#mb5e525e1d2\" y=\"145.33312\"/>\r\n     <use style=\"fill:#1f77b4;stroke:#1f77b4;\" x=\"67.463636\" xlink:href=\"#mb5e525e1d2\" y=\"180.887527\"/>\r\n     <use style=\"fill:#1f77b4;stroke:#1f77b4;\" x=\"67.463636\" xlink:href=\"#mb5e525e1d2\" y=\"99.230846\"/>\r\n     <use style=\"fill:#1f77b4;stroke:#1f77b4;\" x=\"67.463636\" xlink:href=\"#mb5e525e1d2\" y=\"129.909646\"/>\r\n     <use style=\"fill:#1f77b4;stroke:#1f77b4;\" x=\"67.463636\" xlink:href=\"#mb5e525e1d2\" y=\"133.503888\"/>\r\n     <use style=\"fill:#1f77b4;stroke:#1f77b4;\" x=\"67.463636\" xlink:href=\"#mb5e525e1d2\" y=\"137.61797\"/>\r\n     <use style=\"fill:#1f77b4;stroke:#1f77b4;\" x=\"67.463636\" xlink:href=\"#mb5e525e1d2\" y=\"133.165806\"/>\r\n     <use style=\"fill:#1f77b4;stroke:#1f77b4;\" x=\"67.463636\" xlink:href=\"#mb5e525e1d2\" y=\"145.871073\"/>\r\n     <use style=\"fill:#1f77b4;stroke:#1f77b4;\" x=\"67.463636\" xlink:href=\"#mb5e525e1d2\" y=\"98.24471\"/>\r\n    </g>\r\n   </g>\r\n   <g id=\"PathCollection_2\">\r\n    <defs>\r\n     <path d=\"M 0 3 \r\nC 0.795609 3 1.55874 2.683901 2.12132 2.12132 \r\nC 2.683901 1.55874 3 0.795609 3 0 \r\nC 3 -0.795609 2.683901 -1.55874 2.12132 -2.12132 \r\nC 1.55874 -2.683901 0.795609 -3 0 -3 \r\nC -0.795609 -3 -1.55874 -2.683901 -2.12132 -2.12132 \r\nC -2.683901 -1.55874 -3 -0.795609 -3 0 \r\nC -3 0.795609 -2.683901 1.55874 -2.12132 2.12132 \r\nC -1.55874 2.683901 -0.795609 3 0 3 \r\nz\r\n\" id=\"mf1aa0cdfbc\" style=\"stroke:#ff7f0e;\"/>\r\n    </defs>\r\n    <g clip-path=\"url(#p6687f68d7c)\">\r\n     <use style=\"fill:#ff7f0e;stroke:#ff7f0e;\" x=\"194.281818\" xlink:href=\"#mf1aa0cdfbc\" y=\"127.352573\"/>\r\n     <use style=\"fill:#ff7f0e;stroke:#ff7f0e;\" x=\"194.281818\" xlink:href=\"#mf1aa0cdfbc\" y=\"95.412508\"/>\r\n     <use style=\"fill:#ff7f0e;stroke:#ff7f0e;\" x=\"194.281818\" xlink:href=\"#mf1aa0cdfbc\" y=\"107.3113\"/>\r\n     <use style=\"fill:#ff7f0e;stroke:#ff7f0e;\" x=\"194.281818\" xlink:href=\"#mf1aa0cdfbc\" y=\"126.713909\"/>\r\n     <use style=\"fill:#ff7f0e;stroke:#ff7f0e;\" x=\"194.281818\" xlink:href=\"#mf1aa0cdfbc\" y=\"137.990944\"/>\r\n     <use style=\"fill:#ff7f0e;stroke:#ff7f0e;\" x=\"194.281818\" xlink:href=\"#mf1aa0cdfbc\" y=\"114.362621\"/>\r\n     <use style=\"fill:#ff7f0e;stroke:#ff7f0e;\" x=\"194.281818\" xlink:href=\"#mf1aa0cdfbc\" y=\"122.082005\"/>\r\n     <use style=\"fill:#ff7f0e;stroke:#ff7f0e;\" x=\"194.281818\" xlink:href=\"#mf1aa0cdfbc\" y=\"223.585818\"/>\r\n     <use style=\"fill:#ff7f0e;stroke:#ff7f0e;\" x=\"194.281818\" xlink:href=\"#mf1aa0cdfbc\" y=\"124.716724\"/>\r\n     <use style=\"fill:#ff7f0e;stroke:#ff7f0e;\" x=\"194.281818\" xlink:href=\"#mf1aa0cdfbc\" y=\"79.573747\"/>\r\n     <use style=\"fill:#ff7f0e;stroke:#ff7f0e;\" x=\"194.281818\" xlink:href=\"#mf1aa0cdfbc\" y=\"77.241057\"/>\r\n     <use style=\"fill:#ff7f0e;stroke:#ff7f0e;\" x=\"194.281818\" xlink:href=\"#mf1aa0cdfbc\" y=\"103.71824\"/>\r\n     <use style=\"fill:#ff7f0e;stroke:#ff7f0e;\" x=\"194.281818\" xlink:href=\"#mf1aa0cdfbc\" y=\"109.98135\"/>\r\n     <use style=\"fill:#ff7f0e;stroke:#ff7f0e;\" x=\"194.281818\" xlink:href=\"#mf1aa0cdfbc\" y=\"89.908673\"/>\r\n     <use style=\"fill:#ff7f0e;stroke:#ff7f0e;\" x=\"194.281818\" xlink:href=\"#mf1aa0cdfbc\" y=\"128.226917\"/>\r\n     <use style=\"fill:#ff7f0e;stroke:#ff7f0e;\" x=\"194.281818\" xlink:href=\"#mf1aa0cdfbc\" y=\"105.145107\"/>\r\n     <use style=\"fill:#ff7f0e;stroke:#ff7f0e;\" x=\"194.281818\" xlink:href=\"#mf1aa0cdfbc\" y=\"162.970702\"/>\r\n     <use style=\"fill:#ff7f0e;stroke:#ff7f0e;\" x=\"194.281818\" xlink:href=\"#mf1aa0cdfbc\" y=\"111.016763\"/>\r\n     <use style=\"fill:#ff7f0e;stroke:#ff7f0e;\" x=\"194.281818\" xlink:href=\"#mf1aa0cdfbc\" y=\"128.986266\"/>\r\n     <use style=\"fill:#ff7f0e;stroke:#ff7f0e;\" x=\"194.281818\" xlink:href=\"#mf1aa0cdfbc\" y=\"120.519814\"/>\r\n     <use style=\"fill:#ff7f0e;stroke:#ff7f0e;\" x=\"194.281818\" xlink:href=\"#mf1aa0cdfbc\" y=\"90.14474\"/>\r\n     <use style=\"fill:#ff7f0e;stroke:#ff7f0e;\" x=\"194.281818\" xlink:href=\"#mf1aa0cdfbc\" y=\"146.537685\"/>\r\n     <use style=\"fill:#ff7f0e;stroke:#ff7f0e;\" x=\"194.281818\" xlink:href=\"#mf1aa0cdfbc\" y=\"34.7528\"/>\r\n     <use style=\"fill:#ff7f0e;stroke:#ff7f0e;\" x=\"194.281818\" xlink:href=\"#mf1aa0cdfbc\" y=\"122.220938\"/>\r\n     <use style=\"fill:#ff7f0e;stroke:#ff7f0e;\" x=\"194.281818\" xlink:href=\"#mf1aa0cdfbc\" y=\"100.32357\"/>\r\n    </g>\r\n   </g>\r\n   <g id=\"PathCollection_3\">\r\n    <defs>\r\n     <path d=\"M 0 3 \r\nC 0.795609 3 1.55874 2.683901 2.12132 2.12132 \r\nC 2.683901 1.55874 3 0.795609 3 0 \r\nC 3 -0.795609 2.683901 -1.55874 2.12132 -2.12132 \r\nC 1.55874 -2.683901 0.795609 -3 0 -3 \r\nC -0.795609 -3 -1.55874 -2.683901 -2.12132 -2.12132 \r\nC -2.683901 -1.55874 -3 -0.795609 -3 0 \r\nC -3 0.795609 -2.683901 1.55874 -2.12132 2.12132 \r\nC -1.55874 2.683901 -0.795609 3 0 3 \r\nz\r\n\" id=\"me78676b37a\" style=\"stroke:#2ca02c;\"/>\r\n    </defs>\r\n    <g clip-path=\"url(#p6687f68d7c)\">\r\n     <use style=\"fill:#2ca02c;stroke:#2ca02c;\" x=\"321.1\" xlink:href=\"#me78676b37a\" y=\"69.635328\"/>\r\n     <use style=\"fill:#2ca02c;stroke:#2ca02c;\" x=\"321.1\" xlink:href=\"#me78676b37a\" y=\"116.918877\"/>\r\n     <use style=\"fill:#2ca02c;stroke:#2ca02c;\" x=\"321.1\" xlink:href=\"#me78676b37a\" y=\"119.748026\"/>\r\n     <use style=\"fill:#2ca02c;stroke:#2ca02c;\" x=\"321.1\" xlink:href=\"#me78676b37a\" y=\"111.480982\"/>\r\n     <use style=\"fill:#2ca02c;stroke:#2ca02c;\" x=\"321.1\" xlink:href=\"#me78676b37a\" y=\"117.296277\"/>\r\n     <use style=\"fill:#2ca02c;stroke:#2ca02c;\" x=\"321.1\" xlink:href=\"#me78676b37a\" y=\"96.533502\"/>\r\n     <use style=\"fill:#2ca02c;stroke:#2ca02c;\" x=\"321.1\" xlink:href=\"#me78676b37a\" y=\"90.832654\"/>\r\n     <use style=\"fill:#2ca02c;stroke:#2ca02c;\" x=\"321.1\" xlink:href=\"#me78676b37a\" y=\"90.679471\"/>\r\n     <use style=\"fill:#2ca02c;stroke:#2ca02c;\" x=\"321.1\" xlink:href=\"#me78676b37a\" y=\"121.731065\"/>\r\n     <use style=\"fill:#2ca02c;stroke:#2ca02c;\" x=\"321.1\" xlink:href=\"#me78676b37a\" y=\"111.361236\"/>\r\n     <use style=\"fill:#2ca02c;stroke:#2ca02c;\" x=\"321.1\" xlink:href=\"#me78676b37a\" y=\"128.945496\"/>\r\n     <use style=\"fill:#2ca02c;stroke:#2ca02c;\" x=\"321.1\" xlink:href=\"#me78676b37a\" y=\"123.385599\"/>\r\n     <use style=\"fill:#2ca02c;stroke:#2ca02c;\" x=\"321.1\" xlink:href=\"#me78676b37a\" y=\"95.198859\"/>\r\n     <use style=\"fill:#2ca02c;stroke:#2ca02c;\" x=\"321.1\" xlink:href=\"#me78676b37a\" y=\"102.740467\"/>\r\n     <use style=\"fill:#2ca02c;stroke:#2ca02c;\" x=\"321.1\" xlink:href=\"#me78676b37a\" y=\"90.910326\"/>\r\n     <use style=\"fill:#2ca02c;stroke:#2ca02c;\" x=\"321.1\" xlink:href=\"#me78676b37a\" y=\"112.444126\"/>\r\n     <use style=\"fill:#2ca02c;stroke:#2ca02c;\" x=\"321.1\" xlink:href=\"#me78676b37a\" y=\"117.620219\"/>\r\n     <use style=\"fill:#2ca02c;stroke:#2ca02c;\" x=\"321.1\" xlink:href=\"#me78676b37a\" y=\"132.106864\"/>\r\n     <use style=\"fill:#2ca02c;stroke:#2ca02c;\" x=\"321.1\" xlink:href=\"#me78676b37a\" y=\"110.867545\"/>\r\n     <use style=\"fill:#2ca02c;stroke:#2ca02c;\" x=\"321.1\" xlink:href=\"#me78676b37a\" y=\"105.906574\"/>\r\n     <use style=\"fill:#2ca02c;stroke:#2ca02c;\" x=\"321.1\" xlink:href=\"#me78676b37a\" y=\"124.409198\"/>\r\n     <use style=\"fill:#2ca02c;stroke:#2ca02c;\" x=\"321.1\" xlink:href=\"#me78676b37a\" y=\"77.704096\"/>\r\n     <use style=\"fill:#2ca02c;stroke:#2ca02c;\" x=\"321.1\" xlink:href=\"#me78676b37a\" y=\"93.392271\"/>\r\n     <use style=\"fill:#2ca02c;stroke:#2ca02c;\" x=\"321.1\" xlink:href=\"#me78676b37a\" y=\"121.155892\"/>\r\n     <use style=\"fill:#2ca02c;stroke:#2ca02c;\" x=\"321.1\" xlink:href=\"#me78676b37a\" y=\"116.426819\"/>\r\n     <use style=\"fill:#2ca02c;stroke:#2ca02c;\" x=\"321.1\" xlink:href=\"#me78676b37a\" y=\"126.91952\"/>\r\n     <use style=\"fill:#2ca02c;stroke:#2ca02c;\" x=\"321.1\" xlink:href=\"#me78676b37a\" y=\"140.317285\"/>\r\n     <use style=\"fill:#2ca02c;stroke:#2ca02c;\" x=\"321.1\" xlink:href=\"#me78676b37a\" y=\"121.911673\"/>\r\n     <use style=\"fill:#2ca02c;stroke:#2ca02c;\" x=\"321.1\" xlink:href=\"#me78676b37a\" y=\"153.27429\"/>\r\n     <use style=\"fill:#2ca02c;stroke:#2ca02c;\" x=\"321.1\" xlink:href=\"#me78676b37a\" y=\"128.66407\"/>\r\n     <use style=\"fill:#2ca02c;stroke:#2ca02c;\" x=\"321.1\" xlink:href=\"#me78676b37a\" y=\"137.342221\"/>\r\n     <use style=\"fill:#2ca02c;stroke:#2ca02c;\" x=\"321.1\" xlink:href=\"#me78676b37a\" y=\"123.402439\"/>\r\n     <use style=\"fill:#2ca02c;stroke:#2ca02c;\" x=\"321.1\" xlink:href=\"#me78676b37a\" y=\"94.693503\"/>\r\n     <use style=\"fill:#2ca02c;stroke:#2ca02c;\" x=\"321.1\" xlink:href=\"#me78676b37a\" y=\"131.752514\"/>\r\n     <use style=\"fill:#2ca02c;stroke:#2ca02c;\" x=\"321.1\" xlink:href=\"#me78676b37a\" y=\"118.536063\"/>\r\n     <use style=\"fill:#2ca02c;stroke:#2ca02c;\" x=\"321.1\" xlink:href=\"#me78676b37a\" y=\"158.24913\"/>\r\n     <use style=\"fill:#2ca02c;stroke:#2ca02c;\" x=\"321.1\" xlink:href=\"#me78676b37a\" y=\"106.440707\"/>\r\n     <use style=\"fill:#2ca02c;stroke:#2ca02c;\" x=\"321.1\" xlink:href=\"#me78676b37a\" y=\"125.84006\"/>\r\n     <use style=\"fill:#2ca02c;stroke:#2ca02c;\" x=\"321.1\" xlink:href=\"#me78676b37a\" y=\"145.877429\"/>\r\n     <use style=\"fill:#2ca02c;stroke:#2ca02c;\" x=\"321.1\" xlink:href=\"#me78676b37a\" y=\"130.891213\"/>\r\n     <use style=\"fill:#2ca02c;stroke:#2ca02c;\" x=\"321.1\" xlink:href=\"#me78676b37a\" y=\"132.420024\"/>\r\n     <use style=\"fill:#2ca02c;stroke:#2ca02c;\" x=\"321.1\" xlink:href=\"#me78676b37a\" y=\"135.701158\"/>\r\n     <use style=\"fill:#2ca02c;stroke:#2ca02c;\" x=\"321.1\" xlink:href=\"#me78676b37a\" y=\"104.449546\"/>\r\n     <use style=\"fill:#2ca02c;stroke:#2ca02c;\" x=\"321.1\" xlink:href=\"#me78676b37a\" y=\"102.223429\"/>\r\n     <use style=\"fill:#2ca02c;stroke:#2ca02c;\" x=\"321.1\" xlink:href=\"#me78676b37a\" y=\"135.004222\"/>\r\n     <use style=\"fill:#2ca02c;stroke:#2ca02c;\" x=\"321.1\" xlink:href=\"#me78676b37a\" y=\"133.136887\"/>\r\n     <use style=\"fill:#2ca02c;stroke:#2ca02c;\" x=\"321.1\" xlink:href=\"#me78676b37a\" y=\"85.540024\"/>\r\n     <use style=\"fill:#2ca02c;stroke:#2ca02c;\" x=\"321.1\" xlink:href=\"#me78676b37a\" y=\"136.346074\"/>\r\n     <use style=\"fill:#2ca02c;stroke:#2ca02c;\" x=\"321.1\" xlink:href=\"#me78676b37a\" y=\"118.469337\"/>\r\n     <use style=\"fill:#2ca02c;stroke:#2ca02c;\" x=\"321.1\" xlink:href=\"#me78676b37a\" y=\"125.630049\"/>\r\n     <use style=\"fill:#2ca02c;stroke:#2ca02c;\" x=\"321.1\" xlink:href=\"#me78676b37a\" y=\"101.606422\"/>\r\n     <use style=\"fill:#2ca02c;stroke:#2ca02c;\" x=\"321.1\" xlink:href=\"#me78676b37a\" y=\"124.004754\"/>\r\n     <use style=\"fill:#2ca02c;stroke:#2ca02c;\" x=\"321.1\" xlink:href=\"#me78676b37a\" y=\"98.111495\"/>\r\n     <use style=\"fill:#2ca02c;stroke:#2ca02c;\" x=\"321.1\" xlink:href=\"#me78676b37a\" y=\"97.015099\"/>\r\n     <use style=\"fill:#2ca02c;stroke:#2ca02c;\" x=\"321.1\" xlink:href=\"#me78676b37a\" y=\"120.039789\"/>\r\n     <use style=\"fill:#2ca02c;stroke:#2ca02c;\" x=\"321.1\" xlink:href=\"#me78676b37a\" y=\"70.460173\"/>\r\n     <use style=\"fill:#2ca02c;stroke:#2ca02c;\" x=\"321.1\" xlink:href=\"#me78676b37a\" y=\"88.227604\"/>\r\n     <use style=\"fill:#2ca02c;stroke:#2ca02c;\" x=\"321.1\" xlink:href=\"#me78676b37a\" y=\"85.831179\"/>\r\n     <use style=\"fill:#2ca02c;stroke:#2ca02c;\" x=\"321.1\" xlink:href=\"#me78676b37a\" y=\"104.273715\"/>\r\n     <use style=\"fill:#2ca02c;stroke:#2ca02c;\" x=\"321.1\" xlink:href=\"#me78676b37a\" y=\"128.629217\"/>\r\n     <use style=\"fill:#2ca02c;stroke:#2ca02c;\" x=\"321.1\" xlink:href=\"#me78676b37a\" y=\"106.50271\"/>\r\n     <use style=\"fill:#2ca02c;stroke:#2ca02c;\" x=\"321.1\" xlink:href=\"#me78676b37a\" y=\"142.442712\"/>\r\n     <use style=\"fill:#2ca02c;stroke:#2ca02c;\" x=\"321.1\" xlink:href=\"#me78676b37a\" y=\"133.378123\"/>\r\n     <use style=\"fill:#2ca02c;stroke:#2ca02c;\" x=\"321.1\" xlink:href=\"#me78676b37a\" y=\"55.827633\"/>\r\n     <use style=\"fill:#2ca02c;stroke:#2ca02c;\" x=\"321.1\" xlink:href=\"#me78676b37a\" y=\"139.274092\"/>\r\n     <use style=\"fill:#2ca02c;stroke:#2ca02c;\" x=\"321.1\" xlink:href=\"#me78676b37a\" y=\"158.436206\"/>\r\n     <use style=\"fill:#2ca02c;stroke:#2ca02c;\" x=\"321.1\" xlink:href=\"#me78676b37a\" y=\"121.595268\"/>\r\n     <use style=\"fill:#2ca02c;stroke:#2ca02c;\" x=\"321.1\" xlink:href=\"#me78676b37a\" y=\"144.589609\"/>\r\n    </g>\r\n   </g>\r\n   <g id=\"PathCollection_4\">\r\n    <defs>\r\n     <path d=\"M 0 3 \r\nC 0.795609 3 1.55874 2.683901 2.12132 2.12132 \r\nC 2.683901 1.55874 3 0.795609 3 0 \r\nC 3 -0.795609 2.683901 -1.55874 2.12132 -2.12132 \r\nC 1.55874 -2.683901 0.795609 -3 0 -3 \r\nC -0.795609 -3 -1.55874 -2.683901 -2.12132 -2.12132 \r\nC -2.683901 -1.55874 -3 -0.795609 -3 0 \r\nC -3 0.795609 -2.683901 1.55874 -2.12132 2.12132 \r\nC -1.55874 2.683901 -0.795609 3 0 3 \r\nz\r\n\" id=\"m3a6381d14c\" style=\"stroke:#d62728;\"/>\r\n    </defs>\r\n    <g clip-path=\"url(#p6687f68d7c)\">\r\n     <use style=\"fill:#d62728;stroke:#d62728;\" x=\"574.736364\" xlink:href=\"#m3a6381d14c\" y=\"132.20396\"/>\r\n     <use style=\"fill:#d62728;stroke:#d62728;\" x=\"574.736364\" xlink:href=\"#m3a6381d14c\" y=\"144.334902\"/>\r\n     <use style=\"fill:#d62728;stroke:#d62728;\" x=\"574.736364\" xlink:href=\"#m3a6381d14c\" y=\"139.430535\"/>\r\n     <use style=\"fill:#d62728;stroke:#d62728;\" x=\"574.736364\" xlink:href=\"#m3a6381d14c\" y=\"131.952298\"/>\r\n     <use style=\"fill:#d62728;stroke:#d62728;\" x=\"574.736364\" xlink:href=\"#m3a6381d14c\" y=\"122.252336\"/>\r\n     <use style=\"fill:#d62728;stroke:#d62728;\" x=\"574.736364\" xlink:href=\"#m3a6381d14c\" y=\"127.781455\"/>\r\n     <use style=\"fill:#d62728;stroke:#d62728;\" x=\"574.736364\" xlink:href=\"#m3a6381d14c\" y=\"135.098745\"/>\r\n     <use style=\"fill:#d62728;stroke:#d62728;\" x=\"574.736364\" xlink:href=\"#m3a6381d14c\" y=\"128.855873\"/>\r\n     <use style=\"fill:#d62728;stroke:#d62728;\" x=\"574.736364\" xlink:href=\"#m3a6381d14c\" y=\"139.235189\"/>\r\n     <use style=\"fill:#d62728;stroke:#d62728;\" x=\"574.736364\" xlink:href=\"#m3a6381d14c\" y=\"138.960704\"/>\r\n     <use style=\"fill:#d62728;stroke:#d62728;\" x=\"574.736364\" xlink:href=\"#m3a6381d14c\" y=\"154.427699\"/>\r\n     <use style=\"fill:#d62728;stroke:#d62728;\" x=\"574.736364\" xlink:href=\"#m3a6381d14c\" y=\"133.817404\"/>\r\n     <use style=\"fill:#d62728;stroke:#d62728;\" x=\"574.736364\" xlink:href=\"#m3a6381d14c\" y=\"131.623773\"/>\r\n     <use style=\"fill:#d62728;stroke:#d62728;\" x=\"574.736364\" xlink:href=\"#m3a6381d14c\" y=\"149.343779\"/>\r\n     <use style=\"fill:#d62728;stroke:#d62728;\" x=\"574.736364\" xlink:href=\"#m3a6381d14c\" y=\"137.808234\"/>\r\n     <use style=\"fill:#d62728;stroke:#d62728;\" x=\"574.736364\" xlink:href=\"#m3a6381d14c\" y=\"135.276574\"/>\r\n     <use style=\"fill:#d62728;stroke:#d62728;\" x=\"574.736364\" xlink:href=\"#m3a6381d14c\" y=\"122.011772\"/>\r\n     <use style=\"fill:#d62728;stroke:#d62728;\" x=\"574.736364\" xlink:href=\"#m3a6381d14c\" y=\"156.506624\"/>\r\n     <use style=\"fill:#d62728;stroke:#d62728;\" x=\"574.736364\" xlink:href=\"#m3a6381d14c\" y=\"145.052702\"/>\r\n     <use style=\"fill:#d62728;stroke:#d62728;\" x=\"574.736364\" xlink:href=\"#m3a6381d14c\" y=\"121.995113\"/>\r\n     <use style=\"fill:#d62728;stroke:#d62728;\" x=\"574.736364\" xlink:href=\"#m3a6381d14c\" y=\"143.999881\"/>\r\n    </g>\r\n   </g>\r\n   <g id=\"matplotlib.axis_1\">\r\n    <g id=\"xtick_1\">\r\n     <g id=\"line2d_1\">\r\n      <defs>\r\n       <path d=\"M 0 0 \r\nL 0 3.5 \r\n\" id=\"mfdc8a488f0\" style=\"stroke:#000000;stroke-width:0.8;\"/>\r\n      </defs>\r\n      <g>\r\n       <use style=\"stroke:#000000;stroke-width:0.8;\" x=\"67.463636\" xlink:href=\"#mfdc8a488f0\" y=\"553.643709\"/>\r\n      </g>\r\n     </g>\r\n     <g id=\"text_1\">\r\n      <!-- −1.0 -->\r\n      <g transform=\"translate(55.32223 568.242146)scale(0.1 -0.1)\">\r\n       <defs>\r\n        <path d=\"M 10.59375 35.5 \r\nL 73.1875 35.5 \r\nL 73.1875 27.203125 \r\nL 10.59375 27.203125 \r\nz\r\n\" id=\"DejaVuSans-8722\"/>\r\n        <path d=\"M 12.40625 8.296875 \r\nL 28.515625 8.296875 \r\nL 28.515625 63.921875 \r\nL 10.984375 60.40625 \r\nL 10.984375 69.390625 \r\nL 28.421875 72.90625 \r\nL 38.28125 72.90625 \r\nL 38.28125 8.296875 \r\nL 54.390625 8.296875 \r\nL 54.390625 0 \r\nL 12.40625 0 \r\nz\r\n\" id=\"DejaVuSans-49\"/>\r\n        <path d=\"M 10.6875 12.40625 \r\nL 21 12.40625 \r\nL 21 0 \r\nL 10.6875 0 \r\nz\r\n\" id=\"DejaVuSans-46\"/>\r\n        <path d=\"M 31.78125 66.40625 \r\nQ 24.171875 66.40625 20.328125 58.90625 \r\nQ 16.5 51.421875 16.5 36.375 \r\nQ 16.5 21.390625 20.328125 13.890625 \r\nQ 24.171875 6.390625 31.78125 6.390625 \r\nQ 39.453125 6.390625 43.28125 13.890625 \r\nQ 47.125 21.390625 47.125 36.375 \r\nQ 47.125 51.421875 43.28125 58.90625 \r\nQ 39.453125 66.40625 31.78125 66.40625 \r\nz\r\nM 31.78125 74.21875 \r\nQ 44.046875 74.21875 50.515625 64.515625 \r\nQ 56.984375 54.828125 56.984375 36.375 \r\nQ 56.984375 17.96875 50.515625 8.265625 \r\nQ 44.046875 -1.421875 31.78125 -1.421875 \r\nQ 19.53125 -1.421875 13.0625 8.265625 \r\nQ 6.59375 17.96875 6.59375 36.375 \r\nQ 6.59375 54.828125 13.0625 64.515625 \r\nQ 19.53125 74.21875 31.78125 74.21875 \r\nz\r\n\" id=\"DejaVuSans-48\"/>\r\n       </defs>\r\n       <use xlink:href=\"#DejaVuSans-8722\"/>\r\n       <use x=\"83.789062\" xlink:href=\"#DejaVuSans-49\"/>\r\n       <use x=\"147.412109\" xlink:href=\"#DejaVuSans-46\"/>\r\n       <use x=\"179.199219\" xlink:href=\"#DejaVuSans-48\"/>\r\n      </g>\r\n     </g>\r\n    </g>\r\n    <g id=\"xtick_2\">\r\n     <g id=\"line2d_2\">\r\n      <g>\r\n       <use style=\"stroke:#000000;stroke-width:0.8;\" x=\"130.872727\" xlink:href=\"#mfdc8a488f0\" y=\"553.643709\"/>\r\n      </g>\r\n     </g>\r\n     <g id=\"text_2\">\r\n      <!-- −0.5 -->\r\n      <g transform=\"translate(118.731321 568.242146)scale(0.1 -0.1)\">\r\n       <defs>\r\n        <path d=\"M 10.796875 72.90625 \r\nL 49.515625 72.90625 \r\nL 49.515625 64.59375 \r\nL 19.828125 64.59375 \r\nL 19.828125 46.734375 \r\nQ 21.96875 47.46875 24.109375 47.828125 \r\nQ 26.265625 48.1875 28.421875 48.1875 \r\nQ 40.625 48.1875 47.75 41.5 \r\nQ 54.890625 34.8125 54.890625 23.390625 \r\nQ 54.890625 11.625 47.5625 5.09375 \r\nQ 40.234375 -1.421875 26.90625 -1.421875 \r\nQ 22.3125 -1.421875 17.546875 -0.640625 \r\nQ 12.796875 0.140625 7.71875 1.703125 \r\nL 7.71875 11.625 \r\nQ 12.109375 9.234375 16.796875 8.0625 \r\nQ 21.484375 6.890625 26.703125 6.890625 \r\nQ 35.15625 6.890625 40.078125 11.328125 \r\nQ 45.015625 15.765625 45.015625 23.390625 \r\nQ 45.015625 31 40.078125 35.4375 \r\nQ 35.15625 39.890625 26.703125 39.890625 \r\nQ 22.75 39.890625 18.8125 39.015625 \r\nQ 14.890625 38.140625 10.796875 36.28125 \r\nz\r\n\" id=\"DejaVuSans-53\"/>\r\n       </defs>\r\n       <use xlink:href=\"#DejaVuSans-8722\"/>\r\n       <use x=\"83.789062\" xlink:href=\"#DejaVuSans-48\"/>\r\n       <use x=\"147.412109\" xlink:href=\"#DejaVuSans-46\"/>\r\n       <use x=\"179.199219\" xlink:href=\"#DejaVuSans-53\"/>\r\n      </g>\r\n     </g>\r\n    </g>\r\n    <g id=\"xtick_3\">\r\n     <g id=\"line2d_3\">\r\n      <g>\r\n       <use style=\"stroke:#000000;stroke-width:0.8;\" x=\"194.281818\" xlink:href=\"#mfdc8a488f0\" y=\"553.643709\"/>\r\n      </g>\r\n     </g>\r\n     <g id=\"text_3\">\r\n      <!-- 0.0 -->\r\n      <g transform=\"translate(186.330256 568.242146)scale(0.1 -0.1)\">\r\n       <use xlink:href=\"#DejaVuSans-48\"/>\r\n       <use x=\"63.623047\" xlink:href=\"#DejaVuSans-46\"/>\r\n       <use x=\"95.410156\" xlink:href=\"#DejaVuSans-48\"/>\r\n      </g>\r\n     </g>\r\n    </g>\r\n    <g id=\"xtick_4\">\r\n     <g id=\"line2d_4\">\r\n      <g>\r\n       <use style=\"stroke:#000000;stroke-width:0.8;\" x=\"257.690909\" xlink:href=\"#mfdc8a488f0\" y=\"553.643709\"/>\r\n      </g>\r\n     </g>\r\n     <g id=\"text_4\">\r\n      <!-- 0.5 -->\r\n      <g transform=\"translate(249.739347 568.242146)scale(0.1 -0.1)\">\r\n       <use xlink:href=\"#DejaVuSans-48\"/>\r\n       <use x=\"63.623047\" xlink:href=\"#DejaVuSans-46\"/>\r\n       <use x=\"95.410156\" xlink:href=\"#DejaVuSans-53\"/>\r\n      </g>\r\n     </g>\r\n    </g>\r\n    <g id=\"xtick_5\">\r\n     <g id=\"line2d_5\">\r\n      <g>\r\n       <use style=\"stroke:#000000;stroke-width:0.8;\" x=\"321.1\" xlink:href=\"#mfdc8a488f0\" y=\"553.643709\"/>\r\n      </g>\r\n     </g>\r\n     <g id=\"text_5\">\r\n      <!-- 1.0 -->\r\n      <g transform=\"translate(313.148437 568.242146)scale(0.1 -0.1)\">\r\n       <use xlink:href=\"#DejaVuSans-49\"/>\r\n       <use x=\"63.623047\" xlink:href=\"#DejaVuSans-46\"/>\r\n       <use x=\"95.410156\" xlink:href=\"#DejaVuSans-48\"/>\r\n      </g>\r\n     </g>\r\n    </g>\r\n    <g id=\"xtick_6\">\r\n     <g id=\"line2d_6\">\r\n      <g>\r\n       <use style=\"stroke:#000000;stroke-width:0.8;\" x=\"384.509091\" xlink:href=\"#mfdc8a488f0\" y=\"553.643709\"/>\r\n      </g>\r\n     </g>\r\n     <g id=\"text_6\">\r\n      <!-- 1.5 -->\r\n      <g transform=\"translate(376.557528 568.242146)scale(0.1 -0.1)\">\r\n       <use xlink:href=\"#DejaVuSans-49\"/>\r\n       <use x=\"63.623047\" xlink:href=\"#DejaVuSans-46\"/>\r\n       <use x=\"95.410156\" xlink:href=\"#DejaVuSans-53\"/>\r\n      </g>\r\n     </g>\r\n    </g>\r\n    <g id=\"xtick_7\">\r\n     <g id=\"line2d_7\">\r\n      <g>\r\n       <use style=\"stroke:#000000;stroke-width:0.8;\" x=\"447.918182\" xlink:href=\"#mfdc8a488f0\" y=\"553.643709\"/>\r\n      </g>\r\n     </g>\r\n     <g id=\"text_7\">\r\n      <!-- 2.0 -->\r\n      <g transform=\"translate(439.966619 568.242146)scale(0.1 -0.1)\">\r\n       <defs>\r\n        <path d=\"M 19.1875 8.296875 \r\nL 53.609375 8.296875 \r\nL 53.609375 0 \r\nL 7.328125 0 \r\nL 7.328125 8.296875 \r\nQ 12.9375 14.109375 22.625 23.890625 \r\nQ 32.328125 33.6875 34.8125 36.53125 \r\nQ 39.546875 41.84375 41.421875 45.53125 \r\nQ 43.3125 49.21875 43.3125 52.78125 \r\nQ 43.3125 58.59375 39.234375 62.25 \r\nQ 35.15625 65.921875 28.609375 65.921875 \r\nQ 23.96875 65.921875 18.8125 64.3125 \r\nQ 13.671875 62.703125 7.8125 59.421875 \r\nL 7.8125 69.390625 \r\nQ 13.765625 71.78125 18.9375 73 \r\nQ 24.125 74.21875 28.421875 74.21875 \r\nQ 39.75 74.21875 46.484375 68.546875 \r\nQ 53.21875 62.890625 53.21875 53.421875 \r\nQ 53.21875 48.921875 51.53125 44.890625 \r\nQ 49.859375 40.875 45.40625 35.40625 \r\nQ 44.1875 33.984375 37.640625 27.21875 \r\nQ 31.109375 20.453125 19.1875 8.296875 \r\nz\r\n\" id=\"DejaVuSans-50\"/>\r\n       </defs>\r\n       <use xlink:href=\"#DejaVuSans-50\"/>\r\n       <use x=\"63.623047\" xlink:href=\"#DejaVuSans-46\"/>\r\n       <use x=\"95.410156\" xlink:href=\"#DejaVuSans-48\"/>\r\n      </g>\r\n     </g>\r\n    </g>\r\n    <g id=\"xtick_8\">\r\n     <g id=\"line2d_8\">\r\n      <g>\r\n       <use style=\"stroke:#000000;stroke-width:0.8;\" x=\"511.327273\" xlink:href=\"#mfdc8a488f0\" y=\"553.643709\"/>\r\n      </g>\r\n     </g>\r\n     <g id=\"text_8\">\r\n      <!-- 2.5 -->\r\n      <g transform=\"translate(503.37571 568.242146)scale(0.1 -0.1)\">\r\n       <use xlink:href=\"#DejaVuSans-50\"/>\r\n       <use x=\"63.623047\" xlink:href=\"#DejaVuSans-46\"/>\r\n       <use x=\"95.410156\" xlink:href=\"#DejaVuSans-53\"/>\r\n      </g>\r\n     </g>\r\n    </g>\r\n    <g id=\"xtick_9\">\r\n     <g id=\"line2d_9\">\r\n      <g>\r\n       <use style=\"stroke:#000000;stroke-width:0.8;\" x=\"574.736364\" xlink:href=\"#mfdc8a488f0\" y=\"553.643709\"/>\r\n      </g>\r\n     </g>\r\n     <g id=\"text_9\">\r\n      <!-- 3.0 -->\r\n      <g transform=\"translate(566.784801 568.242146)scale(0.1 -0.1)\">\r\n       <defs>\r\n        <path d=\"M 40.578125 39.3125 \r\nQ 47.65625 37.796875 51.625 33 \r\nQ 55.609375 28.21875 55.609375 21.1875 \r\nQ 55.609375 10.40625 48.1875 4.484375 \r\nQ 40.765625 -1.421875 27.09375 -1.421875 \r\nQ 22.515625 -1.421875 17.65625 -0.515625 \r\nQ 12.796875 0.390625 7.625 2.203125 \r\nL 7.625 11.71875 \r\nQ 11.71875 9.328125 16.59375 8.109375 \r\nQ 21.484375 6.890625 26.8125 6.890625 \r\nQ 36.078125 6.890625 40.9375 10.546875 \r\nQ 45.796875 14.203125 45.796875 21.1875 \r\nQ 45.796875 27.640625 41.28125 31.265625 \r\nQ 36.765625 34.90625 28.71875 34.90625 \r\nL 20.21875 34.90625 \r\nL 20.21875 43.015625 \r\nL 29.109375 43.015625 \r\nQ 36.375 43.015625 40.234375 45.921875 \r\nQ 44.09375 48.828125 44.09375 54.296875 \r\nQ 44.09375 59.90625 40.109375 62.90625 \r\nQ 36.140625 65.921875 28.71875 65.921875 \r\nQ 24.65625 65.921875 20.015625 65.03125 \r\nQ 15.375 64.15625 9.8125 62.3125 \r\nL 9.8125 71.09375 \r\nQ 15.4375 72.65625 20.34375 73.4375 \r\nQ 25.25 74.21875 29.59375 74.21875 \r\nQ 40.828125 74.21875 47.359375 69.109375 \r\nQ 53.90625 64.015625 53.90625 55.328125 \r\nQ 53.90625 49.265625 50.4375 45.09375 \r\nQ 46.96875 40.921875 40.578125 39.3125 \r\nz\r\n\" id=\"DejaVuSans-51\"/>\r\n       </defs>\r\n       <use xlink:href=\"#DejaVuSans-51\"/>\r\n       <use x=\"63.623047\" xlink:href=\"#DejaVuSans-46\"/>\r\n       <use x=\"95.410156\" xlink:href=\"#DejaVuSans-48\"/>\r\n      </g>\r\n     </g>\r\n    </g>\r\n   </g>\r\n   <g id=\"matplotlib.axis_2\">\r\n    <g id=\"ytick_1\">\r\n     <g id=\"line2d_10\">\r\n      <defs>\r\n       <path d=\"M 0 0 \r\nL -3.5 0 \r\n\" id=\"mf495722b24\" style=\"stroke:#000000;stroke-width:0.8;\"/>\r\n      </defs>\r\n      <g>\r\n       <use style=\"stroke:#000000;stroke-width:0.8;\" x=\"42.1\" xlink:href=\"#mf495722b24\" y=\"479.850962\"/>\r\n      </g>\r\n     </g>\r\n     <g id=\"text_10\">\r\n      <!-- $\\mathdefault{10^{-10}}$ -->\r\n      <g transform=\"translate(7.2 483.65018)scale(0.1 -0.1)\">\r\n       <use transform=\"translate(0 0.765625)\" xlink:href=\"#DejaVuSans-49\"/>\r\n       <use transform=\"translate(63.623047 0.765625)\" xlink:href=\"#DejaVuSans-48\"/>\r\n       <use transform=\"translate(128.203125 39.046875)scale(0.7)\" xlink:href=\"#DejaVuSans-8722\"/>\r\n       <use transform=\"translate(186.855469 39.046875)scale(0.7)\" xlink:href=\"#DejaVuSans-49\"/>\r\n       <use transform=\"translate(231.391602 39.046875)scale(0.7)\" xlink:href=\"#DejaVuSans-48\"/>\r\n      </g>\r\n     </g>\r\n    </g>\r\n    <g id=\"ytick_2\">\r\n     <g id=\"line2d_11\">\r\n      <g>\r\n       <use style=\"stroke:#000000;stroke-width:0.8;\" x=\"42.1\" xlink:href=\"#mf495722b24\" y=\"386.080613\"/>\r\n      </g>\r\n     </g>\r\n     <g id=\"text_11\">\r\n      <!-- $\\mathdefault{10^{-7}}$ -->\r\n      <g transform=\"translate(11.6 389.879832)scale(0.1 -0.1)\">\r\n       <defs>\r\n        <path d=\"M 8.203125 72.90625 \r\nL 55.078125 72.90625 \r\nL 55.078125 68.703125 \r\nL 28.609375 0 \r\nL 18.3125 0 \r\nL 43.21875 64.59375 \r\nL 8.203125 64.59375 \r\nz\r\n\" id=\"DejaVuSans-55\"/>\r\n       </defs>\r\n       <use transform=\"translate(0 0.684375)\" xlink:href=\"#DejaVuSans-49\"/>\r\n       <use transform=\"translate(63.623047 0.684375)\" xlink:href=\"#DejaVuSans-48\"/>\r\n       <use transform=\"translate(128.203125 38.965625)scale(0.7)\" xlink:href=\"#DejaVuSans-8722\"/>\r\n       <use transform=\"translate(186.855469 38.965625)scale(0.7)\" xlink:href=\"#DejaVuSans-55\"/>\r\n      </g>\r\n     </g>\r\n    </g>\r\n    <g id=\"ytick_3\">\r\n     <g id=\"line2d_12\">\r\n      <g>\r\n       <use style=\"stroke:#000000;stroke-width:0.8;\" x=\"42.1\" xlink:href=\"#mf495722b24\" y=\"292.310264\"/>\r\n      </g>\r\n     </g>\r\n     <g id=\"text_12\">\r\n      <!-- $\\mathdefault{10^{-4}}$ -->\r\n      <g transform=\"translate(11.6 296.109483)scale(0.1 -0.1)\">\r\n       <defs>\r\n        <path d=\"M 37.796875 64.3125 \r\nL 12.890625 25.390625 \r\nL 37.796875 25.390625 \r\nz\r\nM 35.203125 72.90625 \r\nL 47.609375 72.90625 \r\nL 47.609375 25.390625 \r\nL 58.015625 25.390625 \r\nL 58.015625 17.1875 \r\nL 47.609375 17.1875 \r\nL 47.609375 0 \r\nL 37.796875 0 \r\nL 37.796875 17.1875 \r\nL 4.890625 17.1875 \r\nL 4.890625 26.703125 \r\nz\r\n\" id=\"DejaVuSans-52\"/>\r\n       </defs>\r\n       <use transform=\"translate(0 0.684375)\" xlink:href=\"#DejaVuSans-49\"/>\r\n       <use transform=\"translate(63.623047 0.684375)\" xlink:href=\"#DejaVuSans-48\"/>\r\n       <use transform=\"translate(128.203125 38.965625)scale(0.7)\" xlink:href=\"#DejaVuSans-8722\"/>\r\n       <use transform=\"translate(186.855469 38.965625)scale(0.7)\" xlink:href=\"#DejaVuSans-52\"/>\r\n      </g>\r\n     </g>\r\n    </g>\r\n    <g id=\"ytick_4\">\r\n     <g id=\"line2d_13\">\r\n      <g>\r\n       <use style=\"stroke:#000000;stroke-width:0.8;\" x=\"42.1\" xlink:href=\"#mf495722b24\" y=\"198.539916\"/>\r\n      </g>\r\n     </g>\r\n     <g id=\"text_13\">\r\n      <!-- $\\mathdefault{10^{-1}}$ -->\r\n      <g transform=\"translate(11.6 202.339135)scale(0.1 -0.1)\">\r\n       <use transform=\"translate(0 0.684375)\" xlink:href=\"#DejaVuSans-49\"/>\r\n       <use transform=\"translate(63.623047 0.684375)\" xlink:href=\"#DejaVuSans-48\"/>\r\n       <use transform=\"translate(128.203125 38.965625)scale(0.7)\" xlink:href=\"#DejaVuSans-8722\"/>\r\n       <use transform=\"translate(186.855469 38.965625)scale(0.7)\" xlink:href=\"#DejaVuSans-49\"/>\r\n      </g>\r\n     </g>\r\n    </g>\r\n    <g id=\"ytick_5\">\r\n     <g id=\"line2d_14\">\r\n      <g>\r\n       <use style=\"stroke:#000000;stroke-width:0.8;\" x=\"42.1\" xlink:href=\"#mf495722b24\" y=\"104.769567\"/>\r\n      </g>\r\n     </g>\r\n     <g id=\"text_14\">\r\n      <!-- $\\mathdefault{10^{2}}$ -->\r\n      <g transform=\"translate(17.5 108.568786)scale(0.1 -0.1)\">\r\n       <use transform=\"translate(0 0.765625)\" xlink:href=\"#DejaVuSans-49\"/>\r\n       <use transform=\"translate(63.623047 0.765625)\" xlink:href=\"#DejaVuSans-48\"/>\r\n       <use transform=\"translate(128.203125 39.046875)scale(0.7)\" xlink:href=\"#DejaVuSans-50\"/>\r\n      </g>\r\n     </g>\r\n    </g>\r\n    <g id=\"ytick_6\">\r\n     <g id=\"line2d_15\">\r\n      <g>\r\n       <use style=\"stroke:#000000;stroke-width:0.8;\" x=\"42.1\" xlink:href=\"#mf495722b24\" y=\"10.999219\"/>\r\n      </g>\r\n     </g>\r\n     <g id=\"text_15\">\r\n      <!-- $\\mathdefault{10^{5}}$ -->\r\n      <g transform=\"translate(17.5 14.798437)scale(0.1 -0.1)\">\r\n       <use transform=\"translate(0 0.684375)\" xlink:href=\"#DejaVuSans-49\"/>\r\n       <use transform=\"translate(63.623047 0.684375)\" xlink:href=\"#DejaVuSans-48\"/>\r\n       <use transform=\"translate(128.203125 38.965625)scale(0.7)\" xlink:href=\"#DejaVuSans-53\"/>\r\n      </g>\r\n     </g>\r\n    </g>\r\n   </g>\r\n   <g id=\"patch_3\">\r\n    <path d=\"M 42.1 553.643709 \r\nL 42.1 10.043709 \r\n\" style=\"fill:none;stroke:#000000;stroke-linecap:square;stroke-linejoin:miter;stroke-width:0.8;\"/>\r\n   </g>\r\n   <g id=\"patch_4\">\r\n    <path d=\"M 600.1 553.643709 \r\nL 600.1 10.043709 \r\n\" style=\"fill:none;stroke:#000000;stroke-linecap:square;stroke-linejoin:miter;stroke-width:0.8;\"/>\r\n   </g>\r\n   <g id=\"patch_5\">\r\n    <path d=\"M 42.1 553.643709 \r\nL 600.1 553.643709 \r\n\" style=\"fill:none;stroke:#000000;stroke-linecap:square;stroke-linejoin:miter;stroke-width:0.8;\"/>\r\n   </g>\r\n   <g id=\"patch_6\">\r\n    <path d=\"M 42.1 10.043709 \r\nL 600.1 10.043709 \r\n\" style=\"fill:none;stroke:#000000;stroke-linecap:square;stroke-linejoin:miter;stroke-width:0.8;\"/>\r\n   </g>\r\n   <g id=\"legend_1\">\r\n    <g id=\"patch_7\">\r\n     <path d=\"M 546.934375 76.756209 \r\nL 593.1 76.756209 \r\nQ 595.1 76.756209 595.1 74.756209 \r\nL 595.1 17.043709 \r\nQ 595.1 15.043709 593.1 15.043709 \r\nL 546.934375 15.043709 \r\nQ 544.934375 15.043709 544.934375 17.043709 \r\nL 544.934375 74.756209 \r\nQ 544.934375 76.756209 546.934375 76.756209 \r\nz\r\n\" style=\"fill:#ffffff;opacity:0.8;stroke:#cccccc;stroke-linejoin:miter;\"/>\r\n    </g>\r\n    <g id=\"PathCollection_5\">\r\n     <g>\r\n      <use style=\"fill:#1f77b4;stroke:#1f77b4;\" x=\"558.934375\" xlink:href=\"#mb5e525e1d2\" y=\"24.017146\"/>\r\n     </g>\r\n    </g>\r\n    <g id=\"text_16\">\r\n     <!-- [1] -->\r\n     <g transform=\"translate(576.934375 26.642146)scale(0.1 -0.1)\">\r\n      <defs>\r\n       <path d=\"M 8.59375 75.984375 \r\nL 29.296875 75.984375 \r\nL 29.296875 69 \r\nL 17.578125 69 \r\nL 17.578125 -6.203125 \r\nL 29.296875 -6.203125 \r\nL 29.296875 -13.1875 \r\nL 8.59375 -13.1875 \r\nz\r\n\" id=\"DejaVuSans-91\"/>\r\n       <path d=\"M 30.421875 75.984375 \r\nL 30.421875 -13.1875 \r\nL 9.71875 -13.1875 \r\nL 9.71875 -6.203125 \r\nL 21.390625 -6.203125 \r\nL 21.390625 69 \r\nL 9.71875 69 \r\nL 9.71875 75.984375 \r\nz\r\n\" id=\"DejaVuSans-93\"/>\r\n      </defs>\r\n      <use xlink:href=\"#DejaVuSans-91\"/>\r\n      <use x=\"39.013672\" xlink:href=\"#DejaVuSans-49\"/>\r\n      <use x=\"102.636719\" xlink:href=\"#DejaVuSans-93\"/>\r\n     </g>\r\n    </g>\r\n    <g id=\"PathCollection_6\">\r\n     <g>\r\n      <use style=\"fill:#ff7f0e;stroke:#ff7f0e;\" x=\"558.934375\" xlink:href=\"#mf1aa0cdfbc\" y=\"38.695271\"/>\r\n     </g>\r\n    </g>\r\n    <g id=\"text_17\">\r\n     <!-- [3] -->\r\n     <g transform=\"translate(576.934375 41.320271)scale(0.1 -0.1)\">\r\n      <use xlink:href=\"#DejaVuSans-91\"/>\r\n      <use x=\"39.013672\" xlink:href=\"#DejaVuSans-51\"/>\r\n      <use x=\"102.636719\" xlink:href=\"#DejaVuSans-93\"/>\r\n     </g>\r\n    </g>\r\n    <g id=\"PathCollection_7\">\r\n     <g>\r\n      <use style=\"fill:#2ca02c;stroke:#2ca02c;\" x=\"558.934375\" xlink:href=\"#me78676b37a\" y=\"53.373396\"/>\r\n     </g>\r\n    </g>\r\n    <g id=\"text_18\">\r\n     <!-- [3] -->\r\n     <g transform=\"translate(576.934375 55.998396)scale(0.1 -0.1)\">\r\n      <use xlink:href=\"#DejaVuSans-91\"/>\r\n      <use x=\"39.013672\" xlink:href=\"#DejaVuSans-51\"/>\r\n      <use x=\"102.636719\" xlink:href=\"#DejaVuSans-93\"/>\r\n     </g>\r\n    </g>\r\n    <g id=\"PathCollection_8\">\r\n     <g>\r\n      <use style=\"fill:#d62728;stroke:#d62728;\" x=\"558.934375\" xlink:href=\"#m3a6381d14c\" y=\"68.051521\"/>\r\n     </g>\r\n    </g>\r\n    <g id=\"text_19\">\r\n     <!-- [1] -->\r\n     <g transform=\"translate(576.934375 70.676521)scale(0.1 -0.1)\">\r\n      <use xlink:href=\"#DejaVuSans-91\"/>\r\n      <use x=\"39.013672\" xlink:href=\"#DejaVuSans-49\"/>\r\n      <use x=\"102.636719\" xlink:href=\"#DejaVuSans-93\"/>\r\n     </g>\r\n    </g>\r\n   </g>\r\n  </g>\r\n </g>\r\n <defs>\r\n  <clipPath id=\"p6687f68d7c\">\r\n   <rect height=\"543.6\" width=\"558\" x=\"42.1\" y=\"10.043709\"/>\r\n  </clipPath>\r\n </defs>\r\n</svg>\r\n",
      "image/png": "[encoded data removed]"
     },
     "metadata": {
      "needs_background": "light"
     }
    }
   ],
   "source": [
    "means = []\n",
    "plt.figure(figsize=(10,10))\n",
    "plt.clf()\n",
    "for x in np.unique(label).astype(np.int32):\n",
    "    idx = np.argwhere(label[:, 0]==x).astype(np.int32)\n",
    "    mcur = curves[idx]\n",
    "    plt.scatter(np.full(len(idx),  x), np.abs( ratio[idx]), label=label[x])\n",
    "    means.append(np.nanmean((curves[idx,2]) / (curves[idx,4])))\n",
    "plt.yscale(\"log\")\n",
    "plt.legend()\n",
    "#plt.ylim(0,1)"
   ]
  },
  {
   "cell_type": "code",
   "execution_count": 12,
   "metadata": {},
   "outputs": [
    {
     "output_type": "stream",
     "name": "stdout",
     "text": [
      "[-0.8780621817633267, -3.3727839753469904, -0.24723284479962146, -1.1829595930083094]\n"
     ]
    }
   ],
   "source": [
    "print(means)"
   ]
  },
  {
   "cell_type": "code",
   "execution_count": 13,
   "metadata": {},
   "outputs": [
    {
     "output_type": "error",
     "ename": "SyntaxError",
     "evalue": "can't assign to literal (<ipython-input-13-3b77a170223a>, line 1)",
     "traceback": [
      "\u001b[1;36m  File \u001b[1;32m\"<ipython-input-13-3b77a170223a>\"\u001b[1;36m, line \u001b[1;32m1\u001b[0m\n\u001b[1;33m    1=1\u001b[0m\n\u001b[1;37m       ^\u001b[0m\n\u001b[1;31mSyntaxError\u001b[0m\u001b[1;31m:\u001b[0m can't assign to literal\n"
     ]
    }
   ],
   "source": [
    "1=1\n",
    "curves = []\n",
    "label = []\n",
    "ids = []\n",
    "for i, f in enumerate(files[:38]):\n",
    "    print(i)\n",
    "    x, y, c = loadABF(f)\n",
    "    d_name = os.path.dirname(f)\n",
    "    base = os.path.basename(f)\n",
    "    ids.append(base)\n",
    "    label.append(d_name)\n",
    "    dfs = []\n",
    "    temp_curves\n",
    "    plt.clf()\n",
    "    for sweepX, sweepY, sweepC in zip(x,y,c):\n",
    "        spikext = feature_extractor.SpikeFeatureExtractor(filter=0)\n",
    "        res = spikext.process(sweepX, sweepY, sweepC)\n",
    "        dfs.append(res)\n",
    "        if res.empty==False:\n",
    "            if len(non_empty_df) > 1:\n",
    "                sweep_to_use = non_empty_df[1]\n",
    "            else:\n",
    "                sweep_to_use = non_empty_df[-1]\n",
    "    non_empty_df = np.nonzero(np.invert([df.empty for df in dfs]))[0]\n",
    "    \n",
    "    \n",
    "    try:\n",
    "        spike_time = dfs[sweep_to_use]['threshold_index'].to_numpy()[0]\n",
    "        curve = exp_growth_factor(x[sweep_to_use,:], y[sweep_to_use,:], c[sweep_to_use,:], spike_time)\n",
    "        curves.append(curve)\n",
    "    except:\n",
    "        curves.append([np.nan, np.nan, np.nan, np.nan, np.nan])\n",
    "    plt.show()\n",
    "print(non_empty_df)"
   ]
  }
 ],
 "metadata": {
  "kernelspec": {
   "name": "python371jvsc74a57bd0db206a7e63f7957012cea344e23a6939b8d85c611abbf9e6bdc142916143468f",
   "display_name": "Python 3.7.1 64-bit ('base': conda)"
  },
  "language_info": {
   "codemirror_mode": {
    "name": "ipython",
    "version": 3
   },
   "file_extension": ".py",
   "mimetype": "text/x-python",
   "name": "python",
   "nbconvert_exporter": "python",
   "pygments_lexer": "ipython3",
   "version": "3.7.1"
  }
 },
 "nbformat": 4,
 "nbformat_minor": 4
}