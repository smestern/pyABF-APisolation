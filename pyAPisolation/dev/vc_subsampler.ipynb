{
 "cells": [
  {
   "cell_type": "code",
   "execution_count": null,
   "metadata": {},
   "outputs": [],
   "source": [
    "import pyabf\n",
    "import numpy as np\n",
    "from scipy.signal import savgol_filter, bessel, filtfilt\n",
    "import matplotlib.pyplot as plt\n",
    "import sys\n",
    "import os\n",
    "%matplotlib inline"
   ]
  },
  {
   "cell_type": "code",
   "execution_count": null,
   "metadata": {},
   "outputs": [],
   "source": [
    "# Load the ABF file\n",
    "abf = pyabf.ABF(os.path.expanduser(\"~/dropbox/20/240320_0014.abf\"))"
   ]
  },
  {
   "cell_type": "code",
   "execution_count": null,
   "metadata": {},
   "outputs": [],
   "source": [
    "# Get the sweep data\n",
    "sweep = 0\n",
    "abf.setSweep(sweep, channel=0)\n",
    "data = abf.sweepY\n",
    "stim = abf.sweepC\n",
    "time = abf.sweepX\n",
    "sr = abf.dataRate\n",
    "\n",
    "#baseline correction via linear regression\n",
    "from scipy import stats\n",
    "slope, intercept, r_value, p_value, std_err = stats.linregress(time, data)\n",
    "data = data - (slope*time + intercept)\n",
    "\n",
    "# apply a low pass filter to 1hz\n",
    "# design the filter\n",
    "b, a = bessel(4, 1, 'low', fs=sr)\n",
    "# apply the filter\n",
    "data_base = filtfilt(b, a, data)\n",
    "# find periods where the data is 3 standard deviations above or below the mean in the filtered data\n",
    "mean = 0.0\n",
    "thresh = 5\n",
    "idx_fail = np.where(np.logical_or(data_base > mean + thresh, data_base < mean - thresh))[0]\n",
    "\n",
    "#plot\n",
    "plt.plot(time, data)\n",
    "plt.plot(idx_fail/sr, data[idx_fail], 'ro')\n",
    "\n",
    "data_adjusted = data.copy()\n",
    "data_adjusted[idx_fail] = 0\n",
    "plt.plot(time, data_adjusted, c='g')"
   ]
  },
  {
   "cell_type": "code",
   "execution_count": null,
   "metadata": {},
   "outputs": [],
   "source": [
    "#now get the full run_time  of the data\n",
    "run_time = time[-1]\n",
    "subsample_window = 10*sr # 10 seconds\n",
    "subsample_step = 60*sr # 5 seconds\n",
    "subsampled_data = []\n",
    "subsampled_time = []\n",
    "for i in range(0, len(data), subsample_step):\n",
    "    subsampled_data.append(data_adjusted[i:i+subsample_window])\n",
    "    subsampled_time.append(time[i:i+subsample_window])\n",
    "\n",
    "plt.plot(np.hstack(subsampled_time), np.hstack(subsampled_data), 'g')\n",
    "plt.show()\n"
   ]
  },
  {
   "cell_type": "code",
   "execution_count": null,
   "metadata": {},
   "outputs": [],
   "source": [
    "#now we need to save the data as individual abf files\n",
    "from pyabf.abfWriter import writeABF1\n",
    "\n",
    "def make_or_get_fold(fold):\n",
    "    if not os.path.exists(fold):\n",
    "        os.makedirs(fold)\n",
    "    return fold\n",
    "\n",
    "\n",
    "base_name = os.path.basename(abf.abfFilePath).split('.')[0]\n",
    "dir_name = make_or_get_fold(os.path.join(os.path.dirname(abf.abfFilePath), f\"{base_name}_subsampled\"))\n",
    "data_out = {}\n",
    "for d, t in zip(subsampled_data, subsampled_time):\n",
    "    writeABF1(filename=f\"{dir_name}/{base_name}_{t[0]:.0f}.abf\", sweepData=d.reshape(-1, 1), units='pA', sampleRateHz=sr)\n",
    "    data_out[f\"{base_name}_{t[0]:.0f}.abf\"] = {'time_start': t[0], 'time_end': t[-1]}\n",
    "\n",
    "#save the data_out\n",
    "import pandas as pd\n",
    "df = pd.DataFrame(data_out).T\n",
    "df.to_csv(f\"{dir_name}/{base_name}_data.csv\")"
   ]
  }
 ],
 "metadata": {
  "kernelspec": {
   "display_name": "modelling",
   "language": "python",
   "name": "python3"
  },
  "language_info": {
   "codemirror_mode": {
    "name": "ipython",
    "version": 3
   },
   "file_extension": ".py",
   "mimetype": "text/x-python",
   "name": "python",
   "nbconvert_exporter": "python",
   "pygments_lexer": "ipython3",
   "version": "3.9.18"
  }
 },
 "nbformat": 4,
 "nbformat_minor": 2
}
