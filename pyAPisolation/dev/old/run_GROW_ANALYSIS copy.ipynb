{
 "cells": [
  {
   "cell_type": "code",
   "execution_count": 3,
   "source": [
    "import sys\r\n",
    "import numpy as np\r\n",
    "from numpy import genfromtxt\r\n",
    "import tkinter as tk\r\n",
    "from tkinter import filedialog\r\n",
    "import os\r\n",
    "import pandas as pd\r\n",
    "import matplotlib.pyplot as plt\r\n",
    "import scipy.signal as signal\r\n",
    "from scipy import interpolate\r\n",
    "from scipy.optimize import curve_fit\r\n",
    "from scipy.interpolate import UnivariateSpline\r\n",
    "from scipy import stats\r\n",
    "from ipfx import feature_extractor\r\n",
    "from ipfx import subthresh_features as subt\r\n",
    "from ipfx import feature_vectors as fv\r\n",
    "from ipfx.sweep import Sweep\r\n",
    "from sklearn.preprocessing import minmax_scale\r\n",
    "from pyAPisolation.loadABF import loadABF\r\n",
    "from pyAPisolation.patch_subthres import membrane_resistance_subt, exp_decay_factor \r\n",
    "import sklearn.preprocessing\r\n",
    "import pyabf\r\n",
    "import logging\r\n",
    "import glob\r\n",
    "method='trf'"
   ],
   "outputs": [
    {
     "output_type": "stream",
     "name": "stderr",
     "text": [
      "INFO       Cache size for target \"cython\": 2910 MB.\n",
      "You can call \"clear_cache('cython')\" to delete all files from the cache or manually delete files in the \"C:\\Users\\SMest\\.cython\\brian_extensions\" directory. [brian2]\n"
     ]
    }
   ],
   "metadata": {}
  },
  {
   "cell_type": "code",
   "execution_count": 4,
   "source": [
    "import autograd.numpy as np\r\n",
    "from autograd import grad\r\n",
    "\r\n"
   ],
   "outputs": [],
   "metadata": {}
  },
  {
   "cell_type": "code",
   "execution_count": 5,
   "source": [
    "\r\n",
    "def exp_grow(t, a, b, alpha):\r\n",
    "    return a - b * np.exp(-alpha * t)\r\n",
    "\r\n",
    "def exp_grow_2p(t, a, b1, alphaFast, b2, alphaSlow):\r\n",
    "    return a - b1 * np.exp(-alphaFast * t) - b2*np.exp(-alphaSlow*t) "
   ],
   "outputs": [],
   "metadata": {}
  },
  {
   "cell_type": "code",
   "execution_count": 6,
   "source": [
    "\r\n",
    "\r\n",
    "f1 = grad(exp_grow_2p)  # 1st derivative of f\r\n",
    "f2 = grad(f1) # 2nd derivative of f\r\n",
    "\r\n",
    "def curvature(x, a, b1, alphaFast, b2, alphaSlow):\r\n",
    "        return np.abs(f2(x, a, b1, alphaFast, b2, alphaSlow))*(1 + f1(x, a, b1, alphaFast, b2, alphaSlow)**2)**-1.5\r\n",
    "    \r\n",
    "    \r\n",
    "def curvature_real(dy, ddy):\r\n",
    "        return abs(dy)*(1 + ddy**2)**-1.5\r\n",
    "    \r\n",
    "def curvature_splines(x, y=None, error=0.1, smoothing=None):\r\n",
    "    \"\"\"Calculate the signed curvature of a 2D curve at each point\r\n",
    "    using interpolating splines.\r\n",
    "    Parameters\r\n",
    "    ----------\r\n",
    "    x,y: numpy.array(dtype=float) shape (n_points, )\r\n",
    "         or\r\n",
    "         y=None and\r\n",
    "         x is a numpy.array(dtype=complex) shape (n_points, )\r\n",
    "         In the second case the curve is represented as a np.array\r\n",
    "         of complex numbers.\r\n",
    "    error : float\r\n",
    "        The admisible error when interpolating the splines\r\n",
    "    Returns\r\n",
    "    -------\r\n",
    "    curvature: numpy.array shape (n_points, )\r\n",
    "    Note: This is 2-3x slower (1.8 ms for 2000 points) than `curvature_gradient`\r\n",
    "    but more accurate, especially at the borders.\r\n",
    "    \"\"\"\r\n",
    "\r\n",
    "    # handle list of complex case\r\n",
    "    if y is None:\r\n",
    "        x, y = x.real, x.imag\r\n",
    "\r\n",
    "    t = np.arange(x.shape[0])\r\n",
    "    std = error * np.ones_like(x)\r\n",
    "\r\n",
    "    fx = UnivariateSpline(t, x, k=4, w=1 / np.sqrt(std), s=smoothing)\r\n",
    "    fy = UnivariateSpline(t, y, k=4, w=1 / np.sqrt(std), s=smoothing)\r\n",
    "\r\n",
    "    xˈ = fx.derivative(1)(t)\r\n",
    "    xˈˈ = fx.derivative(2)(t)\r\n",
    "    yˈ = fy.derivative(1)(t)\r\n",
    "    yˈˈ = fy.derivative(2)(t)\r\n",
    "    curvature = (xˈ* yˈˈ - yˈ* xˈˈ) / np.power(xˈ** 2 + yˈ** 2, 3 / 2)\r\n",
    "    return curvature\r\n",
    "    \r\n",
    "\r\n",
    "def derivative(x,y):\r\n",
    "    return np.diff(y)/np.diff(x)\r\n",
    "\r\n",
    "\r\n",
    "def curve_detrend(x,y, curve2):\r\n",
    "    test = curvature_splines(x, signal.savgol_filter(y, 51, 1), error=1, smoothing=25)\r\n",
    "    cy = np.array([curvature(xi, *curve2) for xi in x])\r\n",
    "    #detrend using first and last point\r\n",
    "    lin_res = stats.linregress([x[0], x[-1]], [cy[0], cy[-1]])\r\n",
    "    trend = x*lin_res.slope + lin_res.intercept\r\n",
    "    #plt.plot(x,trend)\r\n",
    "    detrended_data = cy - trend\r\n",
    "    return detrended_data"
   ],
   "outputs": [],
   "metadata": {}
  },
  {
   "cell_type": "code",
   "execution_count": 7,
   "source": [
    "def exp_growth_factor(dataT,dataV,dataI, end_index=300):\r\n",
    "    #try:\r\n",
    "        \r\n",
    "        diff_I = np.diff(dataI)\r\n",
    "        upwardinfl = np.argmax(diff_I)\r\n",
    "\r\n",
    "        #Compute out -50 ms from threshold\r\n",
    "        dt = dataT[1] - dataT[0]\r\n",
    "        offset = 0.01/ dt \r\n",
    "\r\n",
    "        end_index = int(end_index - offset)\r\n",
    "\r\n",
    "\r\n",
    "        \r\n",
    "        upperC = np.amax(dataV[upwardinfl:end_index])\r\n",
    "        lowerC  = np.amin(dataV[upwardinfl:end_index])\r\n",
    "        diffC = np.abs(lowerC - upperC)\r\n",
    "        t1 = dataT[upwardinfl:end_index] - dataT[upwardinfl]\r\n",
    "        curve = curve_fit(exp_grow, t1, dataV[upwardinfl:end_index], maxfev=50000, bounds=([-np.inf, -np.inf, -np.inf], [np.inf, np.inf, np.inf]))[0]\r\n",
    "        curve2 = curve_fit(exp_grow_2p, t1, dataV[upwardinfl:end_index], maxfev=50000,method='trf', bounds=([upperC-5,  0, 10,  0,  -np.inf], [upperC+5, diffC, np.inf, diffC,np.inf]), xtol=None, gtol=None, ftol=1e-12, jac='3-point')[0]\r\n",
    "        tau = curve[2]\r\n",
    "        tau1 = 1/curve2[2]\r\n",
    "        tau2 = 1/curve2[4]\r\n",
    "        tau_idx = [2, 4]\r\n",
    "        fast = tau_idx[np.argmin([tau1, tau2])]\r\n",
    "        slow = tau_idx[np.argmax([tau1, tau2])]\r\n",
    "        \r\n",
    "        curve_out = [curve2[0], curve2[fast-1], curve2[fast], curve2[slow-1], curve2[slow]]\r\n",
    "\r\n",
    "\r\n",
    "        #plt.subplot(1,2,1)\r\n",
    "        plt.plot(t1, dataV[upwardinfl:end_index], c='k', alpha=0.5)\r\n",
    "        plt.plot(t1, exp_grow_2p(t1, *curve2), label=f'2 phase fit', c='r', alpha=0.5)\r\n",
    "        plt.plot(t1, exp_grow(t1, *curve_out[:3]), label=f'Fast phase', c='g', alpha=0.5)\r\n",
    "        plt.plot(t1, exp_grow(t1, curve_out[0], *curve_out[3:]), label=f'slow phase', c='b', alpha=0.5)\r\n",
    "        plt.title(f\" CELL will tau1 {1/curve2[fast]} and tau2 {1/curve2[slow]}\")\r\n",
    "        #plt.subplot(1,2,2)\r\n",
    "        plt.legend()\r\n",
    "        #plt.twinx()\r\n",
    "        #plt.subplot(1,2,2)\r\n",
    "        dy = curve_detrend(t1, dataV[upwardinfl:end_index], curve2)\r\n",
    "         #signal.savgol_filter(nt1p.diff(dataV[upwardinfl:end_index])/np.diff(t1), 71, 2, mode='mirror')\r\n",
    "        #plt.plot(t1,dy)\r\n",
    "        \r\n",
    "        curve_out = [curve2[0], curve2[fast-1], 1/curve2[fast], curve2[slow-1], 1/curve2[slow]]\r\n",
    "        return curve_out, np.amax(dy)\r\n",
    "    #except:\r\n",
    "        return [np.nan, np.nan, np.nan, np.nan, np.nan]"
   ],
   "outputs": [],
   "metadata": {}
  },
  {
   "cell_type": "code",
   "execution_count": 8,
   "source": [
    "files = glob.glob('C:\\\\Users\\\\SMest\\\\Documents\\\\clustering-data\\\\\\All IC1s\\\\*.abf', recursive=True)"
   ],
   "outputs": [],
   "metadata": {}
  },
  {
   "cell_type": "code",
   "execution_count": 9,
   "source": [
    "cell_type_df = pd.read_csv(\"C:\\\\Users\\\\SMest\\\\Documents\\\\clustering-data\\\\MARM_PVN_IC1\\\\spike_count_sort_out.csv\")\r\n",
    "print(cell_type_df.head)\r\n",
    "file_names = cell_type_df['filename'].to_numpy()\r\n",
    "cell_type_label = cell_type_df['cell_label'].to_numpy()"
   ],
   "outputs": [
    {
     "output_type": "stream",
     "name": "stdout",
     "text": [
      "<bound method NDFrame.head of             filename  label  cell_label  CRH_label  Sag Ratio 001  \\\n",
      "0    2020_01_16_0003      2          -1         -1       0.072335   \n",
      "1    2020_01_16_0011      1           1         -1       0.053301   \n",
      "2    2020_01_16_0020      2           3         -1       0.183200   \n",
      "3    2020_01_16_0025      2          -1         -1       0.200844   \n",
      "4    2020_01_16_0029      0          -1          0       0.044166   \n",
      "..               ...    ...         ...        ...            ...   \n",
      "152         21311038      1           0         -1       0.065753   \n",
      "153         21311047      1           1         -1       0.069595   \n",
      "154         21311063      5           1         -1       0.291042   \n",
      "155         21311074      1          -1         -1       0.123829   \n",
      "156         21311084      1           1         -1       0.290186   \n",
      "\n",
      "     Sag Ratio 002  Sag Ratio 003  Sag Ratio 004  Sag Ratio 005  \\\n",
      "0         0.480277       1.081981       1.528664       1.856069   \n",
      "1         0.503962       0.925638       1.555496       2.082007   \n",
      "2         0.575015       1.055171       1.837907       2.206512   \n",
      "3         0.587164       1.024564       1.622953       5.406313   \n",
      "4         0.664253       1.029240       1.606125       2.330974   \n",
      "..             ...            ...            ...            ...   \n",
      "152       0.538819       1.143360       1.229709       1.308476   \n",
      "153       0.470869       1.049339       1.635955       1.803914   \n",
      "154       0.584079       0.998267       1.478935       1.917750   \n",
      "155       0.539322       1.064687       1.508119       1.534894   \n",
      "156       0.610318       1.004721       1.572691       1.822265   \n",
      "\n",
      "     Sag Ratio 006  ...  spike_thres008 1  spike_width0021  spike_width0031  \\\n",
      "0         3.187487  ...        -39.367676          0.00125          0.00125   \n",
      "1         2.253271  ...        -32.684326          0.00110          0.00100   \n",
      "2         2.410272  ...        -35.308838          0.00135          0.00135   \n",
      "3         4.132607  ...        -36.346436          0.00115          0.00115   \n",
      "4         1.949249  ...        -51.879883          0.00160          0.00155   \n",
      "..             ...  ...               ...              ...              ...   \n",
      "152       1.766135  ...        -25.543213          0.00178          0.00176   \n",
      "153       1.929304  ...        -34.912109          0.00108          0.00100   \n",
      "154       2.345283  ...        -34.667969          0.00092          0.00080   \n",
      "155       1.991345  ...        -21.545410          0.00222          0.00218   \n",
      "156       2.300668  ...        -37.841797          0.00136          0.00128   \n",
      "\n",
      "     spike_width0041  spike_width0051  spike_width0061  spike_width0071  \\\n",
      "0            0.00120          0.00120              NaN              NaN   \n",
      "1            0.00100          0.00105              NaN              NaN   \n",
      "2            0.00135          0.00135          0.00135              NaN   \n",
      "3            0.00115          0.00115              NaN              NaN   \n",
      "4                NaN              NaN              NaN              NaN   \n",
      "..               ...              ...              ...              ...   \n",
      "152          0.00180          0.00164          0.00168              NaN   \n",
      "153          0.00098          0.00094          0.00094              NaN   \n",
      "154          0.00076              NaN              NaN              NaN   \n",
      "155          0.00204          0.00200          0.00202              NaN   \n",
      "156          0.00124          0.00132          0.00134              NaN   \n",
      "\n",
      "     spike_width0081  latency_slope  latency_decay  \n",
      "0                NaN       0.114643       1.055731  \n",
      "1                NaN       0.287480       1.180096  \n",
      "2                NaN       0.065053       0.986025  \n",
      "3                NaN       0.110158       0.951640  \n",
      "4                NaN            NaN            NaN  \n",
      "..               ...            ...            ...  \n",
      "152              NaN       0.066318       0.971572  \n",
      "153              NaN       0.130393       0.984444  \n",
      "154              NaN       0.044160       0.985281  \n",
      "155              NaN       0.077835       0.979789  \n",
      "156              NaN       0.096644       1.000584  \n",
      "\n",
      "[157 rows x 156 columns]>\n"
     ]
    }
   ],
   "metadata": {}
  },
  {
   "cell_type": "code",
   "execution_count": null,
   "source": [
    "def find_response(dataY, dataI):\r\n",
    "\r\n",
    "\r\n",
    "\r\n",
    "def compute_expected_response(dataI, resistance):\r\n",
    "    #use simple IR\r\n"
   ],
   "outputs": [],
   "metadata": {}
  },
  {
   "cell_type": "code",
   "execution_count": 19,
   "source": [
    "curves = []\r\n",
    "label = []\r\n",
    "ids = []\r\n",
    "max_curve = []\r\n",
    "for i, f in enumerate(files[:10]):\r\n",
    "    print(i)\r\n",
    "    if True: #try:\r\n",
    "        base = os.path.basename(f)\r\n",
    "        base = base.split(\".\")[0]\r\n",
    "        if base in file_names:\r\n",
    "            x, y, c = loadABF(f)\r\n",
    "            resistance = membrane_resistance_subt(x,y,c)\r\n",
    "            tau_full = []\r\n",
    "            temp_curves =[]\r\n",
    "            #plt.clf()\r\n",
    "            iterd = 0\r\n",
    "            for sweepX, sweepY, sweepC in zip(x,y,c):\r\n",
    "                spikext = feature_extractor.SpikeFeatureExtractor(filter=0, end=1.25)\r\n",
    "                res = spikext.process(sweepX, sweepY, sweepC)\r\n",
    "                if res.empty==False and iterd < 3:\r\n",
    "                    iterd += 1\r\n",
    "                    spike_time = res['threshold_index'].to_numpy()[0]\r\n",
    "                    #plt.figure(num=2)\r\n",
    "                    curve, max_dy = exp_growth_factor(sweepX, sweepY, sweepC, spike_time)\r\n",
    "                    tau = exp_decay_factor(sweepX, sweepY, sweepC, 100)\r\n",
    "                    tau_full.append(tau[0])\r\n",
    "                    max_curve.append(max_dy)\r\n",
    "                    temp_curves.append(curve)\r\n",
    "            temp_curves = np.vstack(temp_curves)\r\n",
    "            div = np.ravel((temp_curves[:,2]) / (temp_curves[:,4])).reshape(-1,1)\r\n",
    "            \r\n",
    "            sum_height= (temp_curves[:,1] + temp_curves[:,3])\r\n",
    "            ratio = (temp_curves[:,2] / (temp_curves[:,1] / sum_height)) / (temp_curves[:,4] / (temp_curves[:,3] / sum_height))\r\n",
    "            ratio = np.ravel(ratio).reshape(-1,1)\r\n",
    "            temp_curves = np.hstack([temp_curves, div, ratio])\r\n",
    "            print(temp_curves)\r\n",
    "            meanC = np.nanmean(temp_curves, axis=0)\r\n",
    "            print(meanC.shape)\r\n",
    "            curves.append(meanC)\r\n",
    "            label_idx = np.argwhere(file_names==base)\r\n",
    "            \r\n",
    "\r\n",
    "            label.append(cell_type_label[label_idx])\r\n",
    "            \r\n",
    "            ids.append(base)\r\n",
    "            plt.savefig(f+\".png\")\r\n",
    "            #plt.show()\r\n",
    "            \r\n",
    "            plt.close()\r\n",
    "    #except:\r\n",
    "       # print(\"fail\")\r\n",
    "curves = np.vstack(curves)"
   ],
   "outputs": [
    {
     "output_type": "stream",
     "name": "stdout",
     "text": [
      "0\n",
      "1\n",
      "[[-39.4946  11.8135   0.0043 ...   0.0409   0.1046   0.1735]\n",
      " [-42.4574   6.1524   0.0018 ...   0.0136   0.1314   0.464 ]\n",
      " [-48.1616   3.9917   0.0017 ...   0.0068   0.2468   1.1321]]\n",
      "(7,)\n",
      "2\n"
     ]
    },
    {
     "output_type": "stream",
     "name": "stderr",
     "text": [
      "WARNING    C:\\Users\\SMest\\Anaconda3\\lib\\site-packages\\ipfx\\spike_features.py:89: RuntimeWarning: invalid value encountered in less\n",
      "  width_levels[width_levels < v[spike_indexes]] = thresh_to_peak_levels[width_levels < v[spike_indexes]]\n",
      " [py.warnings]\n",
      "WARNING:py.warnings:C:\\Users\\SMest\\Anaconda3\\lib\\site-packages\\ipfx\\spike_features.py:89: RuntimeWarning: invalid value encountered in less\n",
      "  width_levels[width_levels < v[spike_indexes]] = thresh_to_peak_levels[width_levels < v[spike_indexes]]\n",
      "\n"
     ]
    },
    {
     "output_type": "stream",
     "name": "stdout",
     "text": [
      "[[-43.3093  40.7848   0.0474 ...   0.0474   1.       0.9158]\n",
      " [-46.6663  47.8212   0.0263 ...   0.0263   1.       0.6642]\n",
      " [-49.4434  34.52     0.0185 ...   0.0185   1.       1.3638]]\n",
      "(7,)\n",
      "3\n"
     ]
    },
    {
     "output_type": "stream",
     "name": "stderr",
     "text": [
      "WARNING    C:\\Users\\SMest\\Anaconda3\\lib\\site-packages\\ipfx\\spike_features.py:89: RuntimeWarning: invalid value encountered in less\n",
      "  width_levels[width_levels < v[spike_indexes]] = thresh_to_peak_levels[width_levels < v[spike_indexes]]\n",
      " [py.warnings]\n",
      "WARNING:py.warnings:C:\\Users\\SMest\\Anaconda3\\lib\\site-packages\\ipfx\\spike_features.py:89: RuntimeWarning: invalid value encountered in less\n",
      "  width_levels[width_levels < v[spike_indexes]] = thresh_to_peak_levels[width_levels < v[spike_indexes]]\n",
      "\n"
     ]
    },
    {
     "output_type": "stream",
     "name": "stdout",
     "text": [
      "[[-47.0325   4.6014   0.0124 ...   0.0671   0.1841   1.5848]\n",
      " [-49.6265  22.7256   0.0331 ...   0.0331   1.       0.9386]\n",
      " [-52.0374  26.0305   0.0219 ...   0.0219   1.       0.5973]]\n",
      "(7,)\n",
      "4\n",
      "[[-38.4166  25.4585   0.0726 ...   0.0726   1.       1.0925]\n",
      " [-36.687    2.9569   0.0308 ...   0.0575   0.5355   9.6496]\n",
      " [-36.4734  28.9786   0.043  ...   0.043    1.       1.0014]]\n",
      "(7,)\n",
      "5\n",
      "6\n"
     ]
    },
    {
     "output_type": "stream",
     "name": "stderr",
     "text": [
      "WARNING    C:\\Users\\SMest\\Anaconda3\\lib\\site-packages\\ipfx\\spike_features.py:89: RuntimeWarning: invalid value encountered in less\n",
      "  width_levels[width_levels < v[spike_indexes]] = thresh_to_peak_levels[width_levels < v[spike_indexes]]\n",
      " [py.warnings]\n",
      "WARNING:py.warnings:C:\\Users\\SMest\\Anaconda3\\lib\\site-packages\\ipfx\\spike_features.py:89: RuntimeWarning: invalid value encountered in less\n",
      "  width_levels[width_levels < v[spike_indexes]] = thresh_to_peak_levels[width_levels < v[spike_indexes]]\n",
      "\n"
     ]
    },
    {
     "output_type": "stream",
     "name": "stdout",
     "text": [
      "[[-41.6143  15.6551   0.0393 ...   0.0393   1.       1.065 ]\n",
      " [-41.2867  18.8229   0.025  ...   0.025    1.       0.8582]\n",
      " [-40.7617  21.219    0.0187 ...   0.0187   1.       0.7121]]\n",
      "(7,)\n",
      "7\n",
      "8\n",
      "9\n",
      "[[-35.2527  19.538    0.0068 ...   0.0625   0.1083   0.0766]\n",
      " [-38.9357   4.4817   0.0031 ...   0.0116   0.265    1.4895]\n",
      " [-38.9347  14.1868   0.0083 ...   0.0083   1.       1.0371]]\n",
      "(7,)\n"
     ]
    }
   ],
   "metadata": {
    "tags": []
   }
  },
  {
   "cell_type": "code",
   "execution_count": 20,
   "source": [
    "print(tau_full)"
   ],
   "outputs": [
    {
     "output_type": "stream",
     "name": "stdout",
     "text": [
      "[0.003111191797646582, 0.004795618546452983, 0.007985449558590619]\n"
     ]
    }
   ],
   "metadata": {}
  },
  {
   "cell_type": "code",
   "execution_count": 11,
   "source": [
    "#lab = sklearn.preprocessing.LabelEncoder()\r\n",
    "#int_lab = lab.fit_transform(label)\r\n",
    "print(curves)\r\n",
    "label = np.ravel(label).reshape(-1,1)\r\n",
    "div = np.ravel((curves[:,2]) / (curves[:,4])).reshape(-1,1)\r\n",
    "print(div)\r\n",
    "sum_height= (curves[:,1] + curves[:,3])\r\n",
    "ratio = (curves[:,2] / (curves[:,1]/sum_height)) / (curves[:,4] / (curves[:,3]/sum_height))\r\n",
    "ratio = np.ravel(ratio).reshape(-1,1)\r\n",
    "curves_out = np.hstack([curves, div, ratio, label])\r\n",
    "np.savetxt('curves.csv', curves_out, fmt='%.8f', delimiter=',')\r\n",
    "np.savetxt('curves_id.csv', ids, fmt='%s', delimiter=',')\r\n",
    "print(curves)"
   ],
   "outputs": [
    {
     "output_type": "stream",
     "name": "stdout",
     "text": [
      "[[-43.3712   7.3192   0.0026 ...   0.0204   0.1609   0.5899]\n",
      " [-46.473   41.042    0.0307 ...   0.0307   1.       0.9813]\n",
      " [-49.5654  17.7859   0.0225 ...   0.0407   0.728    1.0402]\n",
      " [-37.1923  19.1314   0.0488 ...   0.0577   0.8452   3.9145]\n",
      " [-41.2209  18.5656   0.0277 ...   0.0277   1.       0.8784]\n",
      " [-37.7077  12.7355   0.006  ...   0.0274   0.4578   0.8677]]\n",
      "[[0.1264]\n",
      " [1.    ]\n",
      " [0.5519]\n",
      " [0.8456]\n",
      " [1.    ]\n",
      " [0.2197]]\n",
      "[[-43.3712   7.3192   0.0026 ...   0.0204   0.1609   0.5899]\n",
      " [-46.473   41.042    0.0307 ...   0.0307   1.       0.9813]\n",
      " [-49.5654  17.7859   0.0225 ...   0.0407   0.728    1.0402]\n",
      " [-37.1923  19.1314   0.0488 ...   0.0577   0.8452   3.9145]\n",
      " [-41.2209  18.5656   0.0277 ...   0.0277   1.       0.8784]\n",
      " [-37.7077  12.7355   0.006  ...   0.0274   0.4578   0.8677]]\n"
     ]
    }
   ],
   "metadata": {}
  },
  {
   "cell_type": "code",
   "execution_count": 12,
   "source": [
    "means = []\r\n",
    "plt.figure(figsize=(10,10))\r\n",
    "plt.clf()\r\n",
    "for x in np.unique(label).astype(np.int32):\r\n",
    "    idx = np.argwhere(label[:,0]==x).astype(np.int32)\r\n",
    "    mcur = curves[idx]\r\n",
    "    plt.scatter(np.full(len(idx),  x),  (curves[idx,2]) / (curves[idx,4]), label=label[x])\r\n",
    "    means.append(np.nanmean((curves[idx,2]) / (curves[idx,4])))\r\n",
    "plt.legend()\r\n",
    "plt.yscale('log')\r\n",
    "#plt.ylim(0,1)"
   ],
   "outputs": [
    {
     "output_type": "display_data",
     "data": {
      "text/plain": [
       "<Figure size 720x720 with 1 Axes>"
      ],
      "image/png": "[encoded data removed]"
     },
     "metadata": {
      "needs_background": "light"
     }
    }
   ],
   "metadata": {}
  },
  {
   "cell_type": "code",
   "execution_count": 13,
   "source": [
    "print(means)"
   ],
   "outputs": [
    {
     "output_type": "stream",
     "name": "stdout",
     "text": [
      "[0.6098404456192007, 0.8456303539450357, 0.5594160248955227]\n"
     ]
    }
   ],
   "metadata": {}
  },
  {
   "cell_type": "code",
   "execution_count": 14,
   "source": [
    "1=1\r\n",
    "curves = []\r\n",
    "label = []\r\n",
    "ids = []\r\n",
    "for i, f in enumerate(files[:38]):\r\n",
    "    print(i)\r\n",
    "    x, y, c = loadABF(f)\r\n",
    "    d_name = os.path.dirname(f)\r\n",
    "    base = os.path.basename(f)\r\n",
    "    ids.append(base)\r\n",
    "    label.append(d_name)\r\n",
    "    dfs = []\r\n",
    "    temp_curves\r\n",
    "    plt.clf()\r\n",
    "    for sweepX, sweepY, sweepC in zip(x,y,c):\r\n",
    "        spikext = feature_extractor.SpikeFeatureExtractor(filter=0)\r\n",
    "        res = spikext.process(sweepX, sweepY, sweepC)\r\n",
    "        dfs.append(res)\r\n",
    "        if res.empty==False:\r\n",
    "            if len(non_empty_df) > 1:\r\n",
    "                sweep_to_use = non_empty_df[1]\r\n",
    "            else:\r\n",
    "                sweep_to_use = non_empty_df[-1]\r\n",
    "    non_empty_df = np.nonzero(np.invert([df.empty for df in dfs]))[0]\r\n",
    "    \r\n",
    "    \r\n",
    "    try:\r\n",
    "        spike_time = dfs[sweep_to_use]['threshold_index'].to_numpy()[0]\r\n",
    "        curve = exp_growth_factor(x[sweep_to_use,:], y[sweep_to_use,:], c[sweep_to_use,:], spike_time)\r\n",
    "        curves.append(curve)\r\n",
    "    except:\r\n",
    "        curves.append([np.nan, np.nan, np.nan, np.nan, np.nan])\r\n",
    "    plt.show()\r\n",
    "print(non_empty_df)"
   ],
   "outputs": [
    {
     "output_type": "error",
     "ename": "SyntaxError",
     "evalue": "can't assign to literal (<ipython-input-14-3b77a170223a>, line 1)",
     "traceback": [
      "\u001b[1;36m  File \u001b[1;32m\"<ipython-input-14-3b77a170223a>\"\u001b[1;36m, line \u001b[1;32m1\u001b[0m\n\u001b[1;33m    1=1\u001b[0m\n\u001b[1;37m       ^\u001b[0m\n\u001b[1;31mSyntaxError\u001b[0m\u001b[1;31m:\u001b[0m can't assign to literal\n"
     ]
    }
   ],
   "metadata": {}
  }
 ],
 "metadata": {
  "kernelspec": {
   "name": "python371jvsc74a57bd0db206a7e63f7957012cea344e23a6939b8d85c611abbf9e6bdc142916143468f",
   "display_name": "Python 3.7.1 64-bit ('base': conda)"
  },
  "language_info": {
   "codemirror_mode": {
    "name": "ipython",
    "version": 3
   },
   "file_extension": ".py",
   "mimetype": "text/x-python",
   "name": "python",
   "nbconvert_exporter": "python",
   "pygments_lexer": "ipython3",
   "version": "3.7.1"
  }
 },
 "nbformat": 4,
 "nbformat_minor": 4
}