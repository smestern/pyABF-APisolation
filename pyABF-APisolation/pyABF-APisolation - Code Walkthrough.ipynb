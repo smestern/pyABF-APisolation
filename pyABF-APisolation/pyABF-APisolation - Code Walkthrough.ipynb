{
 "cells": [
  {
   "cell_type": "markdown",
   "metadata": {},
   "source": [
    "# pyABF-APisolation - Code Walkthrough"
   ]
  },
  {
   "cell_type": "markdown",
   "metadata": {},
   "source": [
    "pyABF-APisolation, is a simplistic module built to quickly extract action potentials and their raw features from abf files.   This module is built on top of swhardens excellent 'pyABF'. Features are defined by their values located in the Allen Institute's electrophysiology white papers"
   ]
  },
  {
   "cell_type": "markdown",
   "metadata": {},
   "source": [
    "The goal of this document is to show the exactly how the code goes about extracting the features."
   ]
  },
  {
   "cell_type": "markdown",
   "metadata": {},
   "source": [
    "### Step 0: import the dependencies, import the ABF"
   ]
  },
  {
   "cell_type": "markdown",
   "metadata": {},
   "source": [
    "To begin with we need to import the dependencies. This code utilises numpy, and pandas for data storage and output. Additionally, we utilise the previously written abfderivative tools found here: https://github.com/smestern/abfderivative."
   ]
  },
  {
   "cell_type": "code",
   "execution_count": 2,
   "metadata": {},
   "outputs": [
    {
     "name": "stderr",
     "output_type": "stream",
     "text": [
      "C:\\Program Files (x86)\\Microsoft Visual Studio\\Shared\\Anaconda3_64\\lib\\site-packages\\pyabf\\tools\\__init__.py:8: UserWarning: All pyabf.tools modules are experimental (APIs may change)\n",
      "  warnings.warn(\"All pyabf.tools modules are experimental (APIs may change)\")\n"
     ]
    }
   ],
   "source": [
    "import numpy as np\n",
    "from numpy import genfromtxt\n",
    "import matplotlib.pyplot as plt\n",
    "from abfderivative import *\n",
    "from nuactionpotential import *\n",
    "import pyabf\n",
    "from pyabf.tools import *\n",
    "from pyabf import filter\n",
    "import os\n",
    "import pandas as pd\n",
    "import statistics"
   ]
  },
  {
   "cell_type": "markdown",
   "metadata": {},
   "source": [
    "Now we simply import our ABF file"
   ]
  },
  {
   "cell_type": "code",
   "execution_count": 3,
   "metadata": {},
   "outputs": [],
   "source": [
    "abf = pyabf.ABF('./processed/1971003-p.abf')"
   ]
  },
  {
   "cell_type": "markdown",
   "metadata": {},
   "source": [
    "After importing the ABF file, we can take a look to ensure its working."
   ]
  },
  {
   "cell_type": "code",
   "execution_count": 4,
   "metadata": {},
   "outputs": [
    {
     "data": {
      "text/plain": [
       "[<matplotlib.lines.Line2D at 0x2975f9854a8>]"
      ]
     },
     "execution_count": 4,
     "metadata": {},
     "output_type": "execute_result"
    },
    {
     "data": {
      "image/png": "[encoded data removed]",
      "text/plain": [
       "<Figure size 432x288 with 1 Axes>"
      ]
     },
     "metadata": {
      "needs_background": "light"
     },
     "output_type": "display_data"
    }
   ],
   "source": [
    "abf.setSweep(4) #Set to sweep number 4\n",
    "plt.plot(abf.sweepX, abf.sweepY, 'b-') #plot our sweep"
   ]
  },
  {
   "cell_type": "markdown",
   "metadata": {},
   "source": [
    "After importing an ABF file, we can simply call apisolate. This is the function you will want to use most often. Ap isolate returns both a feature array and the raw traces for all the action potentials found in a file. "
   ]
  },
  {
   "cell_type": "code",
   "execution_count": 5,
   "metadata": {},
   "outputs": [
    {
     "name": "stdout",
     "output_type": "stream",
     "text": [
      "0\n",
      "%5 threhold avg: 14373.779296876584\n",
      "Ap count: 1\n",
      "1\n",
      "%5 threhold avg: 13122.558593751448\n",
      "Ap count: 4\n",
      "2\n",
      "%5 threhold avg: 11298.285590278416\n",
      "Ap count: 13\n",
      "3\n",
      "%5 threhold avg: 11102.294921872028\n",
      "Ap count: 23\n",
      "4\n",
      "%5 threhold avg: 10453.444260817821\n",
      "Ap count: 36\n",
      "5\n",
      "%5 threhold avg: 10149.002075196082\n",
      "Ap count: 52\n",
      "6\n",
      "%5 threhold avg: 9719.04553865222\n",
      "Ap count: 71\n",
      "7\n",
      "%5 threhold avg: 9431.384858631\n",
      "Ap count: 92\n",
      "8\n",
      "%5 threhold avg: 10242.919921873214\n",
      "Ap count: 117\n",
      "9\n",
      "%5 threhold avg: 8829.345703125266\n",
      "Ap count: 142\n",
      "feattag.csv saved\n"
     ]
    },
    {
     "data": {
      "text/html": [
       "<div>\n",
       "<style scoped>\n",
       "    .dataframe tbody tr th:only-of-type {\n",
       "        vertical-align: middle;\n",
       "    }\n",
       "\n",
       "    .dataframe tbody tr th {\n",
       "        vertical-align: top;\n",
       "    }\n",
       "\n",
       "    .dataframe thead th {\n",
       "        text-align: right;\n",
       "    }\n",
       "</style>\n",
       "<table border=\"1\" class=\"dataframe\">\n",
       "  <thead>\n",
       "    <tr style=\"text-align: right;\">\n",
       "      <th></th>\n",
       "      <th>Sweep</th>\n",
       "      <th>Start Time</th>\n",
       "      <th>End Time</th>\n",
       "      <th>ISI</th>\n",
       "      <th>5% Threshold</th>\n",
       "      <th>mV at Threshold</th>\n",
       "      <th>AP Peak (mV)</th>\n",
       "      <th>Ap peak (S)</th>\n",
       "      <th>AP fast trough (mV)</th>\n",
       "      <th>AP fast trough time (S)</th>\n",
       "      <th>AP slow trough (mV)</th>\n",
       "      <th>AP slow trough time (S)</th>\n",
       "      <th>AP slow trough time ratio</th>\n",
       "      <th>AP height</th>\n",
       "      <th>AP Full width (S)</th>\n",
       "      <th>AP Upstroke (mV/mS)</th>\n",
       "      <th>AP Upstroke time (S)</th>\n",
       "      <th>AP downstroke (mV/mS)</th>\n",
       "      <th>AP Downstroke time (S)</th>\n",
       "      <th>Upstroke / Downstroke Ratio</th>\n",
       "    </tr>\n",
       "  </thead>\n",
       "  <tbody>\n",
       "    <tr>\n",
       "      <th>0</th>\n",
       "      <td>0.0</td>\n",
       "      <td>0.09860</td>\n",
       "      <td>0.01050</td>\n",
       "      <td>0.80665</td>\n",
       "      <td>14373.779297</td>\n",
       "      <td>-37.170410</td>\n",
       "      <td>28.991699</td>\n",
       "      <td>0.00050</td>\n",
       "      <td>-65.734863</td>\n",
       "      <td>0.00545</td>\n",
       "      <td>-68.328857</td>\n",
       "      <td>0.01030</td>\n",
       "      <td>0.980</td>\n",
       "      <td>94.726562</td>\n",
       "      <td>0.00095</td>\n",
       "      <td>287475.585938</td>\n",
       "      <td>0.00025</td>\n",
       "      <td>-100708.007813</td>\n",
       "      <td>0.00100</td>\n",
       "      <td>-2.854545</td>\n",
       "    </tr>\n",
       "    <tr>\n",
       "      <th>1</th>\n",
       "      <td>1.0</td>\n",
       "      <td>0.04685</td>\n",
       "      <td>0.01055</td>\n",
       "      <td>0.10670</td>\n",
       "      <td>13122.558594</td>\n",
       "      <td>-45.043945</td>\n",
       "      <td>27.008057</td>\n",
       "      <td>0.00055</td>\n",
       "      <td>-63.720703</td>\n",
       "      <td>0.00550</td>\n",
       "      <td>-65.307617</td>\n",
       "      <td>0.01045</td>\n",
       "      <td>0.990</td>\n",
       "      <td>90.728760</td>\n",
       "      <td>0.00080</td>\n",
       "      <td>285034.179688</td>\n",
       "      <td>0.00030</td>\n",
       "      <td>-114135.742187</td>\n",
       "      <td>0.00095</td>\n",
       "      <td>-2.497326</td>\n",
       "    </tr>\n",
       "    <tr>\n",
       "      <th>2</th>\n",
       "      <td>1.0</td>\n",
       "      <td>0.15355</td>\n",
       "      <td>0.01060</td>\n",
       "      <td>0.20930</td>\n",
       "      <td>13122.558594</td>\n",
       "      <td>-35.156250</td>\n",
       "      <td>30.242920</td>\n",
       "      <td>0.00060</td>\n",
       "      <td>-62.591553</td>\n",
       "      <td>0.00555</td>\n",
       "      <td>-64.636230</td>\n",
       "      <td>0.01010</td>\n",
       "      <td>0.950</td>\n",
       "      <td>92.834473</td>\n",
       "      <td>0.00105</td>\n",
       "      <td>253906.250000</td>\n",
       "      <td>0.00030</td>\n",
       "      <td>-82397.460938</td>\n",
       "      <td>0.00110</td>\n",
       "      <td>-3.081481</td>\n",
       "    </tr>\n",
       "    <tr>\n",
       "      <th>3</th>\n",
       "      <td>1.0</td>\n",
       "      <td>0.36285</td>\n",
       "      <td>0.01065</td>\n",
       "      <td>0.54240</td>\n",
       "      <td>13122.558594</td>\n",
       "      <td>-34.332275</td>\n",
       "      <td>33.782959</td>\n",
       "      <td>0.00065</td>\n",
       "      <td>-59.509277</td>\n",
       "      <td>0.00545</td>\n",
       "      <td>-61.767578</td>\n",
       "      <td>0.00985</td>\n",
       "      <td>0.920</td>\n",
       "      <td>93.292236</td>\n",
       "      <td>0.00130</td>\n",
       "      <td>248413.085938</td>\n",
       "      <td>0.00030</td>\n",
       "      <td>-70190.429688</td>\n",
       "      <td>0.00150</td>\n",
       "      <td>-3.539130</td>\n",
       "    </tr>\n",
       "    <tr>\n",
       "      <th>4</th>\n",
       "      <td>2.0</td>\n",
       "      <td>0.03480</td>\n",
       "      <td>0.01055</td>\n",
       "      <td>0.05955</td>\n",
       "      <td>11298.285590</td>\n",
       "      <td>-37.200928</td>\n",
       "      <td>27.221680</td>\n",
       "      <td>0.00055</td>\n",
       "      <td>-62.774658</td>\n",
       "      <td>0.00545</td>\n",
       "      <td>-63.568115</td>\n",
       "      <td>0.00810</td>\n",
       "      <td>0.755</td>\n",
       "      <td>89.996338</td>\n",
       "      <td>0.00085</td>\n",
       "      <td>278320.312500</td>\n",
       "      <td>0.00030</td>\n",
       "      <td>-108642.578125</td>\n",
       "      <td>0.00095</td>\n",
       "      <td>-2.561798</td>\n",
       "    </tr>\n",
       "  </tbody>\n",
       "</table>\n",
       "</div>"
      ],
      "text/plain": [
       "   Sweep  Start Time  End Time      ISI  5% Threshold  mV at Threshold  \\\n",
       "0    0.0     0.09860   0.01050  0.80665  14373.779297       -37.170410   \n",
       "1    1.0     0.04685   0.01055  0.10670  13122.558594       -45.043945   \n",
       "2    1.0     0.15355   0.01060  0.20930  13122.558594       -35.156250   \n",
       "3    1.0     0.36285   0.01065  0.54240  13122.558594       -34.332275   \n",
       "4    2.0     0.03480   0.01055  0.05955  11298.285590       -37.200928   \n",
       "\n",
       "   AP Peak (mV)  Ap peak (S)  AP fast trough (mV)  AP fast trough time (S)  \\\n",
       "0     28.991699      0.00050           -65.734863                  0.00545   \n",
       "1     27.008057      0.00055           -63.720703                  0.00550   \n",
       "2     30.242920      0.00060           -62.591553                  0.00555   \n",
       "3     33.782959      0.00065           -59.509277                  0.00545   \n",
       "4     27.221680      0.00055           -62.774658                  0.00545   \n",
       "\n",
       "   AP slow trough (mV)  AP slow trough time (S)  AP slow trough time ratio  \\\n",
       "0           -68.328857                  0.01030                      0.980   \n",
       "1           -65.307617                  0.01045                      0.990   \n",
       "2           -64.636230                  0.01010                      0.950   \n",
       "3           -61.767578                  0.00985                      0.920   \n",
       "4           -63.568115                  0.00810                      0.755   \n",
       "\n",
       "   AP height  AP Full width (S)  AP Upstroke (mV/mS)  AP Upstroke time (S)  \\\n",
       "0  94.726562            0.00095        287475.585938               0.00025   \n",
       "1  90.728760            0.00080        285034.179688               0.00030   \n",
       "2  92.834473            0.00105        253906.250000               0.00030   \n",
       "3  93.292236            0.00130        248413.085938               0.00030   \n",
       "4  89.996338            0.00085        278320.312500               0.00030   \n",
       "\n",
       "   AP downstroke (mV/mS)  AP Downstroke time (S)  Upstroke / Downstroke Ratio  \n",
       "0         -100708.007813                 0.00100                    -2.854545  \n",
       "1         -114135.742187                 0.00095                    -2.497326  \n",
       "2          -82397.460938                 0.00110                    -3.081481  \n",
       "3          -70190.429688                 0.00150                    -3.539130  \n",
       "4         -108642.578125                 0.00095                    -2.561798  "
      ]
     },
     "metadata": {},
     "output_type": "display_data"
    },
    {
     "data": {
      "image/png": "[encoded data removed]",
      "text/plain": [
       "<Figure size 432x288 with 1 Axes>"
      ]
     },
     "metadata": {
      "needs_background": "light"
     },
     "output_type": "display_data"
    }
   ],
   "source": [
    "aparray, featarray, abf = apisolate(abf, 0, 'tag', False, True, plot=1)\n",
    "display(featarray.head())"
   ]
  },
  {
   "cell_type": "markdown",
   "metadata": {},
   "source": [
    "As you can see, apisolate returns a reasonably complete feature array. Now lets look at how it determines these values."
   ]
  },
  {
   "cell_type": "markdown",
   "metadata": {},
   "source": [
    "### Step 1: Isolate the raw traces"
   ]
  },
  {
   "cell_type": "markdown",
   "metadata": {},
   "source": [
    "First, Apisolate calls appreprocess. This function serves to isolate the 'raw' traces, as well as some feature data.  \n",
    "appreprocess begins by constructing arrays to fill."
   ]
  },
  {
   "cell_type": "code",
   "execution_count": 5,
   "metadata": {
    "slideshow": {
     "slide_type": "-"
    }
   },
   "outputs": [],
   "source": []
  },
  {
   "cell_type": "code",
   "execution_count": null,
   "metadata": {},
   "outputs": [],
   "source": []
  }
 ],
 "metadata": {
  "kernelspec": {
   "display_name": "Python 3",
   "language": "python",
   "name": "python3"
  },
  "language_info": {
   "codemirror_mode": {
    "name": "ipython",
    "version": 3
   },
   "file_extension": ".py",
   "mimetype": "text/x-python",
   "name": "python",
   "nbconvert_exporter": "python",
   "pygments_lexer": "ipython3",
   "version": "3.6.8"
  }
 },
 "nbformat": 4,
 "nbformat_minor": 2
}
