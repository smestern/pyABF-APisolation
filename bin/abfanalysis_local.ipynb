{
 "cells": [
  {
   "cell_type": "code",
   "execution_count": 1,
   "metadata": {},
   "outputs": [
    {
     "name": "stderr",
     "output_type": "stream",
     "text": [
      "C:\\Users\\SMest\\Anaconda3\\lib\\site-packages\\numpy\\_distributor_init.py:32: UserWarning: loaded more than 1 DLL from .libs:\n",
      "C:\\Users\\SMest\\Anaconda3\\lib\\site-packages\\numpy\\.libs\\libopenblas.4SP5SUA7CBGXUEOC35YP2ASOICYYEQZZ.gfortran-win_amd64.dll\n",
      "C:\\Users\\SMest\\Anaconda3\\lib\\site-packages\\numpy\\.libs\\libopenblas.QVLO2T66WEPI7JZ63PS3HMOHFEY472BC.gfortran-win_amd64.dll\n",
      "  stacklevel=1)\n"
     ]
    }
   ],
   "source": [
    "%matplotlib widget\n",
    "import ipywidgets as widgets\n",
    "import matplotlib.pyplot as plt\n",
    "import numpy as np\n"
   ]
  },
  {
   "cell_type": "code",
   "execution_count": 2,
   "metadata": {},
   "outputs": [],
   "source": [
    "import glob\n",
    "from ipfx import feature_extractor\n",
    "import os\n",
    "import pyabf\n",
    "from IPython.display import clear_output\n",
    "import pandas as pd\n",
    "import pyAPisolation.abf_featureextractor as abfe"
   ]
  },
  {
   "cell_type": "code",
   "execution_count": 3,
   "metadata": {},
   "outputs": [
    {
     "name": "stdout",
     "output_type": "stream",
     "text": [
      "[ABFcore(abf=\"C:\\Users\\SMest\\source\\repos\\smestern\\pyABF-APisolation\\pyAPisolation\\bin\\20o01023.abf\", loadData=True), ABFcore(abf=\"C:\\Users\\SMest\\source\\repos\\smestern\\pyABF-APisolation\\pyAPisolation\\bin\\20o01033.abf\", loadData=True)]\n"
     ]
    }
   ],
   "source": [
    "\n",
    "abf_list_dir = glob.glob(\"*.abf\")\n",
    "abf_list = [pyabf.ABF(x) for x in abf_list_dir]\n",
    "abf_list_name = [str(x) for x in abf_list_dir]\n",
    "pairs = [c for c in zip(abf_list_name, abf_list)]\n",
    "test=feature_extractor.SpikeFeatureExtractor()\n",
    "print(abf_list)"
   ]
  },
  {
   "cell_type": "code",
   "execution_count": 5,
   "metadata": {},
   "outputs": [
    {
     "data": {
      "application/vnd.jupyter.widget-view+json": {
       "model_id": "5e741cd644e04f8d85c157376a8fecdb",
       "version_major": 2,
       "version_minor": 0
      },
      "text/plain": [
       "abfanalysis(children=(VBox(children=(Text(value='.', continuous_update=False, description='ABF DIR:', placehol…"
      ]
     },
     "metadata": {},
     "output_type": "display_data"
    },
    {
     "name": "stderr",
     "output_type": "stream",
     "text": [
      "INFO:root:Curve fit for membrane time constant failed\n"
     ]
    },
    {
     "name": "stdout",
     "output_type": "stream",
     "text": [
      "20o01023.abf import\n"
     ]
    },
    {
     "name": "stderr",
     "output_type": "stream",
     "text": [
      "INFO:root:Curve fit for membrane time constant failed\n",
      "INFO:root:Curve fit for membrane time constant failed\n",
      "C:\\Users\\SMest\\Anaconda3\\lib\\site-packages\\pyAPisolation\\patch_utils.py:79: RuntimeWarning: Mean of empty slice\n",
      "  data = np.nanmean(data)\n"
     ]
    },
    {
     "name": "stdout",
     "output_type": "stream",
     "text": [
      "Processed Sweep 005 with 3 aps\n",
      "Processed Sweep 006 with 7 aps\n",
      "Processed Sweep 007 with 10 aps\n"
     ]
    },
    {
     "name": "stderr",
     "output_type": "stream",
     "text": [
      "C:\\Users\\SMest\\Anaconda3\\lib\\site-packages\\pyAPisolation\\patch_utils.py:79: RuntimeWarning: Mean of empty slice\n",
      "  data = np.nanmean(data)\n",
      "C:\\Users\\SMest\\Anaconda3\\lib\\site-packages\\pyAPisolation\\patch_utils.py:79: RuntimeWarning: Mean of empty slice\n",
      "  data = np.nanmean(data)\n",
      "C:\\Users\\SMest\\Anaconda3\\lib\\site-packages\\pyAPisolation\\patch_utils.py:79: RuntimeWarning: Mean of empty slice\n",
      "  data = np.nanmean(data)\n"
     ]
    },
    {
     "name": "stdout",
     "output_type": "stream",
     "text": [
      "Processed Sweep 008 with 14 aps\n",
      "Processed Sweep 009 with 16 aps\n",
      "Processed Sweep 010 with 17 aps\n",
      "Processed Sweep 011 with 19 aps\n"
     ]
    },
    {
     "name": "stderr",
     "output_type": "stream",
     "text": [
      "C:\\Users\\SMest\\Anaconda3\\lib\\site-packages\\pyAPisolation\\patch_utils.py:79: RuntimeWarning: Mean of empty slice\n",
      "  data = np.nanmean(data)\n",
      "C:\\Users\\SMest\\Anaconda3\\lib\\site-packages\\pyAPisolation\\patch_utils.py:79: RuntimeWarning: Mean of empty slice\n",
      "  data = np.nanmean(data)\n",
      "C:\\Users\\SMest\\Anaconda3\\lib\\site-packages\\pyAPisolation\\patch_utils.py:79: RuntimeWarning: Mean of empty slice\n",
      "  data = np.nanmean(data)\n",
      "C:\\Users\\SMest\\Anaconda3\\lib\\site-packages\\pyAPisolation\\patch_utils.py:79: RuntimeWarning: Mean of empty slice\n",
      "  data = np.nanmean(data)\n",
      "C:\\Users\\SMest\\Anaconda3\\lib\\site-packages\\pyAPisolation\\patch_utils.py:79: RuntimeWarning: Mean of empty slice\n",
      "  data = np.nanmean(data)\n"
     ]
    },
    {
     "name": "stdout",
     "output_type": "stream",
     "text": [
      "Processed Sweep 012 with 20 aps\n",
      "Processed Sweep 013 with 21 aps\n",
      "Processed Sweep 014 with 22 aps\n",
      "Processed Sweep 015 with 23 aps\n",
      "plot failed\n",
      "20o01033.abf import\n",
      "Processed Sweep 004 with 4 aps\n",
      "Processed Sweep 005 with 8 aps\n"
     ]
    },
    {
     "name": "stderr",
     "output_type": "stream",
     "text": [
      "C:\\Users\\SMest\\Anaconda3\\lib\\site-packages\\pyAPisolation\\patch_utils.py:79: RuntimeWarning: Mean of empty slice\n",
      "  data = np.nanmean(data)\n",
      "C:\\Users\\SMest\\Anaconda3\\lib\\site-packages\\pyAPisolation\\patch_utils.py:79: RuntimeWarning: Mean of empty slice\n",
      "  data = np.nanmean(data)\n",
      "C:\\Users\\SMest\\Anaconda3\\lib\\site-packages\\pyAPisolation\\patch_utils.py:79: RuntimeWarning: Mean of empty slice\n",
      "  data = np.nanmean(data)\n",
      "INFO:root:Need to recalculate threshold-peak pair that exceeds maximum allowed interval (0.050000 s)\n"
     ]
    },
    {
     "name": "stdout",
     "output_type": "stream",
     "text": [
      "Processed Sweep 006 with 12 aps\n",
      "Processed Sweep 007 with 14 aps\n",
      "Processed Sweep 008 with 17 aps\n",
      "Processed Sweep 009 with 11 aps\n"
     ]
    },
    {
     "name": "stderr",
     "output_type": "stream",
     "text": [
      "C:\\Users\\SMest\\Anaconda3\\lib\\site-packages\\pyAPisolation\\patch_utils.py:79: RuntimeWarning: Mean of empty slice\n",
      "  data = np.nanmean(data)\n",
      "C:\\Users\\SMest\\Anaconda3\\lib\\site-packages\\pyAPisolation\\patch_utils.py:79: RuntimeWarning: Mean of empty slice\n",
      "  data = np.nanmean(data)\n"
     ]
    },
    {
     "name": "stdout",
     "output_type": "stream",
     "text": [
      "Processed Sweep 010 with 4 aps\n",
      "Processed Sweep 011 with 3 aps\n",
      "Processed Sweep 012 with 3 aps\n",
      "Processed Sweep 013 with 3 aps\n",
      "Processed Sweep 014 with 3 aps\n",
      "Processed Sweep 015 with 3 aps\n",
      "plot failed\n"
     ]
    },
    {
     "name": "stderr",
     "output_type": "stream",
     "text": [
      "INFO:root:Curve fit for membrane time constant failed\n"
     ]
    },
    {
     "name": "stdout",
     "output_type": "stream",
     "text": [
      "20o01023.abf import\n"
     ]
    },
    {
     "name": "stderr",
     "output_type": "stream",
     "text": [
      "INFO:root:Curve fit for membrane time constant failed\n",
      "INFO:root:Curve fit for membrane time constant failed\n"
     ]
    },
    {
     "name": "stdout",
     "output_type": "stream",
     "text": [
      "Processed Sweep 005 with 3 aps\n",
      "Processed Sweep 006 with 7 aps\n",
      "Processed Sweep 007 with 10 aps\n"
     ]
    },
    {
     "name": "stderr",
     "output_type": "stream",
     "text": [
      "C:\\Users\\SMest\\Anaconda3\\lib\\site-packages\\pyAPisolation\\patch_utils.py:79: RuntimeWarning: Mean of empty slice\n",
      "  data = np.nanmean(data)\n",
      "C:\\Users\\SMest\\Anaconda3\\lib\\site-packages\\pyAPisolation\\patch_utils.py:79: RuntimeWarning: Mean of empty slice\n",
      "  data = np.nanmean(data)\n",
      "C:\\Users\\SMest\\Anaconda3\\lib\\site-packages\\pyAPisolation\\patch_utils.py:79: RuntimeWarning: Mean of empty slice\n",
      "  data = np.nanmean(data)\n",
      "C:\\Users\\SMest\\Anaconda3\\lib\\site-packages\\pyAPisolation\\patch_utils.py:79: RuntimeWarning: Mean of empty slice\n",
      "  data = np.nanmean(data)\n"
     ]
    },
    {
     "name": "stdout",
     "output_type": "stream",
     "text": [
      "Processed Sweep 008 with 14 aps\n",
      "Processed Sweep 009 with 16 aps\n",
      "Processed Sweep 010 with 17 aps\n"
     ]
    },
    {
     "name": "stderr",
     "output_type": "stream",
     "text": [
      "C:\\Users\\SMest\\Anaconda3\\lib\\site-packages\\pyAPisolation\\patch_utils.py:79: RuntimeWarning: Mean of empty slice\n",
      "  data = np.nanmean(data)\n",
      "C:\\Users\\SMest\\Anaconda3\\lib\\site-packages\\pyAPisolation\\patch_utils.py:79: RuntimeWarning: Mean of empty slice\n",
      "  data = np.nanmean(data)\n",
      "C:\\Users\\SMest\\Anaconda3\\lib\\site-packages\\pyAPisolation\\patch_utils.py:79: RuntimeWarning: Mean of empty slice\n",
      "  data = np.nanmean(data)\n",
      "C:\\Users\\SMest\\Anaconda3\\lib\\site-packages\\pyAPisolation\\patch_utils.py:79: RuntimeWarning: Mean of empty slice\n",
      "  data = np.nanmean(data)\n"
     ]
    },
    {
     "name": "stdout",
     "output_type": "stream",
     "text": [
      "Processed Sweep 011 with 19 aps\n",
      "Processed Sweep 012 with 20 aps\n",
      "Processed Sweep 013 with 21 aps\n",
      "Processed Sweep 014 with 22 aps\n"
     ]
    },
    {
     "name": "stderr",
     "output_type": "stream",
     "text": [
      "C:\\Users\\SMest\\Anaconda3\\lib\\site-packages\\pyAPisolation\\patch_utils.py:79: RuntimeWarning: Mean of empty slice\n",
      "  data = np.nanmean(data)\n"
     ]
    },
    {
     "name": "stdout",
     "output_type": "stream",
     "text": [
      "Processed Sweep 015 with 23 aps\n",
      "plot failed\n",
      "20o01033.abf import\n"
     ]
    },
    {
     "name": "stderr",
     "output_type": "stream",
     "text": [
      "C:\\Users\\SMest\\Anaconda3\\lib\\site-packages\\pyAPisolation\\patch_utils.py:79: RuntimeWarning: Mean of empty slice\n",
      "  data = np.nanmean(data)\n",
      "C:\\Users\\SMest\\Anaconda3\\lib\\site-packages\\pyAPisolation\\patch_utils.py:79: RuntimeWarning: Mean of empty slice\n",
      "  data = np.nanmean(data)\n",
      "C:\\Users\\SMest\\Anaconda3\\lib\\site-packages\\pyAPisolation\\patch_utils.py:79: RuntimeWarning: Mean of empty slice\n",
      "  data = np.nanmean(data)\n"
     ]
    },
    {
     "name": "stdout",
     "output_type": "stream",
     "text": [
      "Processed Sweep 004 with 4 aps\n",
      "Processed Sweep 005 with 8 aps\n",
      "Processed Sweep 006 with 12 aps\n",
      "Processed Sweep 007 with 14 aps\n"
     ]
    },
    {
     "name": "stderr",
     "output_type": "stream",
     "text": [
      "INFO:root:Need to recalculate threshold-peak pair that exceeds maximum allowed interval (0.050000 s)\n"
     ]
    },
    {
     "name": "stdout",
     "output_type": "stream",
     "text": [
      "Processed Sweep 008 with 17 aps\n",
      "Processed Sweep 009 with 11 aps\n",
      "Processed Sweep 010 with 4 aps\n",
      "Processed Sweep 011 with 3 aps\n"
     ]
    },
    {
     "name": "stderr",
     "output_type": "stream",
     "text": [
      "C:\\Users\\SMest\\Anaconda3\\lib\\site-packages\\pyAPisolation\\patch_utils.py:79: RuntimeWarning: Mean of empty slice\n",
      "  data = np.nanmean(data)\n",
      "C:\\Users\\SMest\\Anaconda3\\lib\\site-packages\\pyAPisolation\\patch_utils.py:79: RuntimeWarning: Mean of empty slice\n",
      "  data = np.nanmean(data)\n"
     ]
    },
    {
     "name": "stdout",
     "output_type": "stream",
     "text": [
      "Processed Sweep 012 with 3 aps\n",
      "Processed Sweep 013 with 3 aps\n",
      "Processed Sweep 014 with 3 aps\n",
      "Processed Sweep 015 with 3 aps\n",
      "plot failed\n",
      "['__fold_name' 'adapt' 'adp_i' ... 'upstroke_t' 'upstroke_v' 'width']\n"
     ]
    }
   ],
   "source": [
    "def make_box_layout():\n",
    "     return widgets.Layout(\n",
    "        border='solid 1px black',\n",
    "        margin='0px 10px 10px 0px',\n",
    "        padding='5px 5px 5px 5px'\n",
    "     )\n",
    "\n",
    "    \n",
    "textbox_style = {'width':'50%', 'description_width': 'initial' }   \n",
    "    \n",
    "class abfanalysis(widgets.Box):\n",
    "     \n",
    "    def __init__(self):\n",
    "        super().__init__()\n",
    "        output = widgets.Output()\n",
    "        \n",
    "        plt.close('all') \n",
    "        with output:\n",
    "            self.fig, self.abf_plot = plt.subplots(constrained_layout=True, figsize=(10, 7.5))\n",
    "        self.abf_list = abf_list\n",
    "        self.pairs = pairs\n",
    "        self.abf = abf_list[0]\n",
    "        self.fig.canvas.toolbar_position = 'bottom'\n",
    "        self.lowerline = None\n",
    "        self.upperline = None\n",
    "        self.abf_plot.grid(True)\n",
    "        #Starting vars\n",
    "        self.sweep_list = [0,5,14]\n",
    "        self.lowerlim = 0\n",
    "        self.upperlim = 1\n",
    "        self.maxinterval = 0.05\n",
    "        self.minheight = 5\n",
    "        self.minpeak = -10\n",
    "        self.threshfrac = 5\n",
    "        self.xlimit = [0, 2]\n",
    "        self.alim = [0,2]\n",
    "        self.dvdt = 20\n",
    "        self.sweep_data = [None, None, None]\n",
    "        self.sweepwise_spikes = [None, None, None]\n",
    "        self.sweepwise_spikes_plot = [None, None, None]\n",
    "        self.dvdt_line = None\n",
    "        # define widgets\n",
    "        self.dir = widgets.Text(\n",
    "                value='.',\n",
    "                placeholder='.',\n",
    "                description='ABF DIR:',\n",
    "            continuous_update=False,\n",
    "                disabled=False\n",
    "            )\n",
    "        self.abf_file = widgets.Dropdown(\n",
    "            options=self.pairs,\n",
    "            description='Number:',\n",
    "        )\n",
    "        self.sweeps = widgets.Text(\n",
    "                value='0, 0',\n",
    "                placeholder='0, 0',\n",
    "                description='Sweeps:',\n",
    "            continuous_update=False,\n",
    "                disabled=False\n",
    "            )\n",
    "        xanalysis = widgets.FloatRangeSlider(\n",
    "                value=[0, 2],\n",
    "                min=0,\n",
    "                max=self.abf.sweepX[-1],\n",
    "                step=0.1,\n",
    "                description='Analysis range:',\n",
    "                disabled=False,\n",
    "                continuous_update=False,\n",
    "                orientation='horizontal',\n",
    "                readout=True,\n",
    "                readout_format='.1f',\n",
    "            )\n",
    "        xlim = widgets.FloatRangeSlider(\n",
    "                value=[0, 2],\n",
    "                min=0,\n",
    "                max=self.abf.sweepX[-1],\n",
    "                step=0.1,\n",
    "                description='X limits:',\n",
    "                disabled=False,\n",
    "                continuous_update=False,\n",
    "                orientation='horizontal',\n",
    "                readout=True,\n",
    "                readout_format='.1f',\n",
    "            )\n",
    "        dvdt = widgets.FloatText(\n",
    "            value=20.0,\n",
    "            description='dV/dT:',\n",
    "            disabled=False,\n",
    "            style=textbox_style\n",
    "        )\n",
    "        Maxinterval = widgets.FloatText(\n",
    "            value=5,\n",
    "            description='max interval tp (ms):',\n",
    "            disabled=False,\n",
    "            style=textbox_style\n",
    "        )\n",
    "        minheight = widgets.FloatText(\n",
    "            value=5.0,\n",
    "            description='min height (mV):',\n",
    "            disabled=False,\n",
    "            style=textbox_style\n",
    "        )\n",
    "        minpeak = widgets.FloatText(\n",
    "            value=-10.0,\n",
    "            description='min peak (mV):',\n",
    "            disabled=False,\n",
    "            style=textbox_style\n",
    "        )\n",
    "        threshfrac = widgets.FloatText(\n",
    "            value=5,\n",
    "            description='thres frac (%):',\n",
    "            disabled=False,\n",
    "            style=textbox_style\n",
    "        )\n",
    "        self.run_folder = widgets.Button(\n",
    "                description='Run Folder Analysis',\n",
    "                disabled=False,\n",
    "                button_style='', # 'success', 'info', 'warning', 'danger' or ''\n",
    "                tooltip='Click me',\n",
    "                icon='check' # (FontAwesome names without the `fa-` prefix)\n",
    "            )\n",
    "        \n",
    " \n",
    "        controls = widgets.VBox([self.dir,\n",
    "                                 self.abf_file,\n",
    "            self.sweeps,\n",
    "            xlim,\n",
    "            xanalysis,\n",
    "            dvdt,\n",
    "            Maxinterval,\n",
    "            minheight,\n",
    "            minpeak,\n",
    "            threshfrac,\n",
    "            self.run_folder,\n",
    "        ])\n",
    "        controls.layout = make_box_layout()\n",
    "        self.df_out = widgets.Output()\n",
    "        out_box = widgets.VBox([output, self.df_out])\n",
    "        output.layout = make_box_layout()\n",
    "        self.df_out.layout = make_box_layout()\n",
    "        \n",
    "        \n",
    "        \n",
    "        # observe stuff\n",
    "        self.dir.observe(self.update_abf_list, 'value')\n",
    "        self.abf_file.observe(self.update_abf, 'value')\n",
    "        xanalysis.observe(self.parse_analysis_lim, 'value')\n",
    "        xlim.observe(self.update_xlim, 'value')\n",
    "        dvdt.observe(self.update_dvdt, 'value')\n",
    "        self.sweeps.observe(self.parse_sweeps, 'value')\n",
    "        Maxinterval.observe(self.update_max_int, 'value')\n",
    "        minheight.observe(self.update_min_height, 'value')\n",
    "        minpeak.observe(self.update_min_peak, 'value')\n",
    "        threshfrac.observe(self.update_threshfrac, 'value')\n",
    "        self.run_folder.on_click(self.run_folder_analysis)\n",
    "        self.plot_abf()\n",
    "        self.update_dvdt_line\n",
    "        self.run_analysis()\n",
    "        self.plot_analysis()\n",
    "        # add to children\n",
    "        self.children = [controls, out_box]\n",
    "     \n",
    "        \n",
    "    def update_lower_line(self, lwlim):\n",
    "        self.lowerlim = lwlim\n",
    "        if self.lowerline is not None:\n",
    "            self.lowerline.set_xdata([self.lowerlim, self.lowerlim])\n",
    "        else:\n",
    "            plot = self.abf_plot\n",
    "            self.lowerline = plot.axvline(self.lowerlim)\n",
    "    def update_upper_line(self, uplim):\n",
    "        self.upperlim = uplim\n",
    "        if self.upperline is not None:\n",
    "            self.upperline.set_xdata([self.upperlim, self.upperlim])\n",
    "        else:\n",
    "            plot = self.abf_plot\n",
    "            self.upperline = plot.axvline(self.upperlim)\n",
    "            \n",
    "    def parse_analysis_lim(self, change):\n",
    "            self.alim = change.new\n",
    "            self.update_lower_line(self.alim[0])\n",
    "            self.update_upper_line(self.alim[1])\n",
    "            self.update_dvdt_line()\n",
    "            self.run_analysis()\n",
    "            self.plot_analysis()\n",
    "        \n",
    "    def update_dvdt(self, change):\n",
    "        self.dvdt = change.new\n",
    "        self.update_dvdt_line()\n",
    "        self.run_analysis()\n",
    "        self.plot_analysis()\n",
    "    \n",
    "    def update_abf_list(self, change):\n",
    "        abf_dir = change.new\n",
    "        self.abf_list = glob.glob(abf_dir + \"\\\\**\\\\*.abf\", recursive=True)\n",
    "        self.abf_list_name = [os.path.basename(x) for x in self.abf_list]\n",
    "        self.pairs = [c for c in zip(self.abf_list_name, self.abf_list)]\n",
    "        self.abf_file.options = self.pairs\n",
    "        \n",
    "    def update_dvdt_line(self):\n",
    "        if self.dvdt_line is not None:\n",
    "            self.dvdt_line.set_ydata([self.dvdt, self.dvdt])\n",
    "        else:\n",
    "            plot = self.dvdt_plot\n",
    "            self.dvdt_line = plot.axhline(self.dvdt)\n",
    "        \n",
    "    def run_analysis(self):\n",
    "        spikext = feature_extractor.SpikeFeatureExtractor(filter = 0, dv_cutoff=self.dvdt, start=self.alim[0], \n",
    "                                                          end=self.alim[1], max_interval=self.maxinterval,\n",
    "                                                         min_height=self.minheight, min_peak=self.minpeak,\n",
    "                                                         thresh_frac=self.threshfrac)\n",
    "        for i,x in enumerate(self.sweep_list):\n",
    "            self.abf.setSweep(x)\n",
    "            dataT, dataV, dataI = self.abf.sweepX, self.abf.sweepY, self.abf.sweepC\n",
    "            spikes_df = spikext.process(dataT, dataV, dataI)\n",
    "            spikes_df['sweep'] = np.full(len(spikes_df.index.values), x)\n",
    "            spikes_df = spikes_df.set_index('sweep')\n",
    "            self.sweep_data[i] = spikes_df\n",
    "        for i, x in enumerate(self.sweep_data):\n",
    "            if x.empty == False:\n",
    "                spikes_t = x['peak_t'].to_numpy()\n",
    "                spikes_v = x['peak_v'].to_numpy()\n",
    "                self.sweepwise_spikes[i] = np.vstack([spikes_t, spikes_v])\n",
    "            else:\n",
    "                self.sweepwise_spikes[i] = None\n",
    "                try:\n",
    "                    self.sweepwise_spikes_plot[i].remove()\n",
    "                    self.sweepwise_spikes_plot[i] = None\n",
    "                except:\n",
    "                    self.sweepwise_spikes_plot[i]\n",
    "        with self.df_out:\n",
    "            clear_output()\n",
    "            temp = pd.concat(self.sweep_data)\n",
    "            display(temp)\n",
    "            \n",
    "    def plot_analysis(self):\n",
    "        plot = self.abf_plot\n",
    "        for i, x in enumerate(self.sweepwise_spikes):\n",
    "            try:\n",
    "                    self.sweepwise_spikes_plot[i].remove()\n",
    "                    self.sweepwise_spikes_plot[i] = None\n",
    "            except:\n",
    "                    self.sweepwise_spikes_plot[i]\n",
    "            if x is not None:\n",
    "                self.sweepwise_spikes_plot[i] = plot.scatter(x[0,:],x[1,:])\n",
    "    \n",
    "    def update_abf(self, change):\n",
    "        self.abf = pyabf.ABF(change[\"new\"])\n",
    "        self.plot_abf()\n",
    "        self.run_analysis()\n",
    "        self.plot_analysis()\n",
    "        \n",
    "    def parse_sweeps(self, change):\n",
    "        try:\n",
    "            self.sweep_list = np.fromstring(change.new, dtype=int, sep=',')\n",
    "        except:\n",
    "            self.sweep_list = [0]\n",
    "        self.sweep_data = [None for x in self.sweep_list]\n",
    "        self.sweepwise_spikes = np.copy(self.sweep_data).tolist()\n",
    "        self.sweepwise_spikes_plot = np.copy(self.sweep_data).tolist()\n",
    "        \n",
    "        self.plot_abf()\n",
    "        self.run_analysis()\n",
    "        self.plot_analysis()\n",
    "        \n",
    "    def plot_abf(self):\n",
    "        \"\"\"Draw line in plot\"\"\"\n",
    "        self.fig.clear()\n",
    "        self.upperline, self.lowerline = None, None\n",
    "        self.abf_plot, self.dvdt_plot = self.fig.subplots(nrows=2, ncols=1, sharex=True)\n",
    "        for x in self.sweep_list:\n",
    "            #ax = self.fig.add_axes(figsize=(5, 3.5)sharex=True, sharey=True)\n",
    "            self.abf.setSweep(x)\n",
    "            self.abf_plot.plot(self.abf.sweepX, self.abf.sweepY)\n",
    "            self.dvdt_plot.plot(self.abf.sweepX[:-1], (np.diff(self.abf.sweepY)/np.diff(self.abf.sweepX))/1000)\n",
    "            self.update_dvdt_line()\n",
    "        self.fig.gca().set_xlim(self.xlimit)\n",
    "        \n",
    "        self.fig.canvas.draw()\n",
    "        self.update_lower_line(self.alim[0])\n",
    "        self.update_upper_line(self.alim[1])\n",
    "        \n",
    "    def update_xlim(self, change):\n",
    "        try:\n",
    "            self.xlimit = change.new\n",
    "            self.fig.gca().set_xlim(self.xlimit)\n",
    "        except:\n",
    "            return      \n",
    "    \n",
    "    def update_max_int(self, change):\n",
    "        self.maxinterval = change.new/1000\n",
    "        self.run_analysis()\n",
    "        self.plot_analysis()\n",
    "    \n",
    "    def update_min_height(self, change):\n",
    "        self.minheight = change.new\n",
    "        self.run_analysis()\n",
    "        self.plot_analysis()\n",
    "        \n",
    "    def update_min_peak(self, change):\n",
    "        self.minpeak = change.new\n",
    "        self.run_analysis()\n",
    "        self.plot_analysis()\n",
    "    \n",
    "    def update_threshfrac(self, change):\n",
    "        self.threshfrac = change.new\n",
    "        self.run_analysis()\n",
    "        self.plot_analysis()\n",
    "\n",
    "    def run_folder_analysis(self, f):\n",
    "        self.run_folder.disabled = True\n",
    "        protocol = self.abf.protocolPath.split(\"\\\\\")[-1].split(\".\")[0]\n",
    "        \n",
    "        self.run_folder.description = f'Running for {protocol}'\n",
    "        param_dict = dict(filter = 0, dv_cutoff=self.dvdt, start=self.alim[0], \n",
    "                                                          end=self.alim[1], max_interval=self.maxinterval,\n",
    "                                                         min_height=self.minheight, min_peak=self.minpeak,\n",
    "                                                         thresh_frac=self.threshfrac)\n",
    "        \n",
    "        df = abfe.folder_feature_extract(os.path.abspath(str(self.dir.value)), param_dict=param_dict, protocol_name=str(protocol))\n",
    "        print(df[0].columns.values)\n",
    "        abfe.save_data_frames(*df, root_fold=self.dir.value)\n",
    "        self.run_folder.disabled = False\n",
    "        self.run_folder.description = 'Run Folder Analysis'\n",
    "        pass\n",
    "         \n",
    "abfanalysis()"
   ]
  },
  {
   "cell_type": "code",
   "execution_count": null,
   "metadata": {},
   "outputs": [],
   "source": []
  },
  {
   "cell_type": "code",
   "execution_count": null,
   "metadata": {},
   "outputs": [],
   "source": []
  }
 ],
 "metadata": {
  "kernelspec": {
   "display_name": "Python 3",
   "language": "python",
   "name": "python3"
  },
  "language_info": {
   "codemirror_mode": {
    "name": "ipython",
    "version": 3
   },
   "file_extension": ".py",
   "mimetype": "text/x-python",
   "name": "python",
   "nbconvert_exporter": "python",
   "pygments_lexer": "ipython3",
   "version": "3.7.1"
  }
 },
 "nbformat": 4,
 "nbformat_minor": 4
}
